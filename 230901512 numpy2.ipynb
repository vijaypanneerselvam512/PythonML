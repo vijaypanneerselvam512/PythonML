{
 "cells": [
  {
   "cell_type": "code",
   "execution_count": 1,
   "id": "d28bea33-ce2b-490c-958b-d7a81cf3b5e5",
   "metadata": {},
   "outputs": [
    {
     "name": "stdout",
     "output_type": "stream",
     "text": [
      "one dimensional array: [10 20 30 40]\n"
     ]
    }
   ],
   "source": [
    "import numpy as op\n",
    "a=op.array([10,20,30,40])\n",
    "print(\"one dimensional array:\",a)"
   ]
  },
  {
   "cell_type": "code",
   "execution_count": 3,
   "id": "b34df360-9f9e-40ad-abc5-deaa42a58204",
   "metadata": {},
   "outputs": [
    {
     "name": "stdout",
     "output_type": "stream",
     "text": [
      "two dimensional array: [[10 20 30 40]\n",
      " [50 60 70 80]]\n"
     ]
    }
   ],
   "source": [
    "import numpy as op\n",
    "b=op.array([[10,20,30,40],[50,60,70,80]])\n",
    "print(\"two dimensional array:\",b)"
   ]
  },
  {
   "cell_type": "code",
   "execution_count": 5,
   "id": "cb2d2582-ba5e-41bf-839a-66bcbd7f97a5",
   "metadata": {},
   "outputs": [
    {
     "name": "stdout",
     "output_type": "stream",
     "text": [
      "\n",
      " array with a zeros \n",
      " [[0. 0. 0. 0. 0.]\n",
      " [0. 0. 0. 0. 0.]\n",
      " [0. 0. 0. 0. 0.]]\n"
     ]
    }
   ],
   "source": [
    "import numpy as np\n",
    "c=np.zeros([3,5])\n",
    "print(\"\\n array with a zeros \\n\",c)"
   ]
  },
  {
   "cell_type": "code",
   "execution_count": 9,
   "id": "a2ebc42d-f181-44ce-9e86-34e7d4367917",
   "metadata": {},
   "outputs": [
    {
     "name": "stdout",
     "output_type": "stream",
     "text": [
      "\n",
      " array with random values\n",
      " [[0.98604067 0.60782062 0.37393906 0.35764481 0.2477078 ]\n",
      " [0.50411357 0.94161899 0.00986626 0.84928933 0.96736042]\n",
      " [0.89414261 0.55967395 0.19707084 0.72036996 0.059991  ]]\n"
     ]
    }
   ],
   "source": [
    "import numpy as np\n",
    "c=np.random.random([3,5])\n",
    "print(\"\\n array with random values\\n\",c)"
   ]
  },
  {
   "cell_type": "code",
   "execution_count": 15,
   "id": "5618d30f-9083-402c-a120-a69aeaa66249",
   "metadata": {},
   "outputs": [
    {
     "name": "stdout",
     "output_type": "stream",
     "text": [
      "\n",
      " array with a zeros\n",
      " [ 0  5 10 15]\n"
     ]
    }
   ],
   "source": [
    "import numpy as np\n",
    "c=np.arange(0,20,5)\n",
    "print(\"\\n array with a zeros\\n\",c)"
   ]
  },
  {
   "cell_type": "code",
   "execution_count": 23,
   "id": "2a5dbf0d-6fbd-4cbb-8933-5db77276bc0b",
   "metadata": {},
   "outputs": [
    {
     "name": "stdout",
     "output_type": "stream",
     "text": [
      "\n",
      " three dimensional array:\n",
      " [[ 1  2  3  4]\n",
      " [ 5  6  7  8]\n",
      " [ 9 10 11 12]]\n",
      "\n",
      " reshaped array:\n",
      " [[ 1  2  3]\n",
      " [ 4  5  6]\n",
      " [ 7  8  9]\n",
      " [10 11 12]]\n"
     ]
    }
   ],
   "source": [
    "import numpy  as op\n",
    "c=op.array([[1,2,3,4],[5,6,7,8],[9,10,11,12]])\n",
    "newarray=c.reshape(4,3)\n",
    "print(\"\\n three dimensional array:\\n\",c)\n",
    "print(\"\\n reshaped array:\\n\",newarray)"
   ]
  },
  {
   "cell_type": "code",
   "execution_count": 3,
   "id": "f1d9024a-fca1-44f8-8228-a9c06cbedbfc",
   "metadata": {},
   "outputs": [
    {
     "name": "stdout",
     "output_type": "stream",
     "text": [
      "\n",
      " three dimensional array:\n",
      ": [[ 1  2  3  4]\n",
      " [ 5  6  7  8]\n",
      " [ 9 10 11 12]]\n",
      "\n",
      " flatten array:\n",
      " [ 1  2  3  4  5  6  7  8  9 10 11 12]\n"
     ]
    }
   ],
   "source": [
    "import numpy  as op\n",
    "arr=op.array([[1,2,3,4],[5,6,7,8],[9,10,11,12]])\n",
    "c=arr.flatten()\n",
    "print(\"\\n three dimensional array:\\n:\",arr)\n",
    "print(\"\\n flatten array:\\n\",c)"
   ]
  },
  {
   "cell_type": "code",
   "execution_count": 25,
   "id": "df6211f0-620c-4b83-904d-6346814154cd",
   "metadata": {},
   "outputs": [
    {
     "name": "stdout",
     "output_type": "stream",
     "text": [
      "\n",
      " three dimensional array:\n",
      ": [1 2 3 4]\n",
      "\n",
      " array's dimension:\n",
      " 1\n"
     ]
    }
   ],
   "source": [
    "import numpy  as op\n",
    "arr=op.array([1,2,3,4])\n",
    "print(\"\\n three dimensional array:\\n:\",arr)\n",
    "print(\"\\n array's dimension:\\n\",arr.ndim)"
   ]
  },
  {
   "cell_type": "code",
   "execution_count": 23,
   "id": "2d9707e1-4ec5-4175-a2e4-e852c79448f7",
   "metadata": {},
   "outputs": [
    {
     "name": "stdout",
     "output_type": "stream",
     "text": [
      "\n",
      " three dimensional array:\n",
      ": [[1 2 3 4]\n",
      " [5 6 7 8]]\n",
      "\n",
      " array's dimension:\n",
      " 2\n"
     ]
    }
   ],
   "source": [
    "import numpy  as op\n",
    "arr=op.array([[1,2,3,4],[5,6,7,8]])\n",
    "print(\"\\n three dimensional array:\\n:\",arr)\n",
    "print(\"\\n array's dimension:\\n\",arr.ndim)"
   ]
  },
  {
   "cell_type": "code",
   "execution_count": 31,
   "id": "187a9869-6e14-49c7-a452-ef8323d01100",
   "metadata": {},
   "outputs": [
    {
     "name": "stdout",
     "output_type": "stream",
     "text": [
      "\n",
      " three dimensional array:\n",
      ": [[ 1  2  3]\n",
      " [ 4  5  6]\n",
      " [ 7  8  9]\n",
      " [10 11 12]]\n",
      "\n",
      " array's dimension:\n",
      " 2\n"
     ]
    }
   ],
   "source": [
    "import numpy  as op\n",
    "arr=op.array([[1,2,3],[4,5,6],[7,8,9],[10,11,12]])\n",
    "print(\"\\n three dimensional array:\\n:\",arr)\n",
    "print(\"\\n array's dimension:\\n\",arr.ndim)"
   ]
  },
  {
   "cell_type": "code",
   "execution_count": 35,
   "id": "b68d1f24-b173-4542-a0df-b3505b2139b2",
   "metadata": {},
   "outputs": [
    {
     "name": "stdout",
     "output_type": "stream",
     "text": [
      "\n",
      " three dimensional array:\n",
      ": [[ 1  2  3]\n",
      " [ 4  5  6]\n",
      " [ 7  8  9]\n",
      " [10 11 12]]\n",
      "(4, 3)\n"
     ]
    }
   ],
   "source": [
    "import numpy  as op\n",
    "arr=op.array([[1,2,3],[4,5,6],[7,8,9],[10,11,12]])\n",
    "print(\"\\n three dimensional array:\\n:\",arr)\n",
    "print(arr.shape)"
   ]
  },
  {
   "cell_type": "code",
   "execution_count": 43,
   "id": "4d3b568c-8cb8-46f8-a6fd-92519c35335b",
   "metadata": {},
   "outputs": [
    {
     "name": "stdout",
     "output_type": "stream",
     "text": [
      "\n",
      " three dimensional array:\n",
      ": [[ 1  2  3]\n",
      " [ 4  5  6]\n",
      " [ 7  8  9]\n",
      " [10 11 12]]\n",
      "\n",
      " array data type:\n",
      ": int64\n"
     ]
    }
   ],
   "source": [
    "import numpy  as op\n",
    "arr=op.array([[1,2,3],[4,5,6],[7,8,9],[10,11,12]])\n",
    "print(\"\\n three dimensional array:\\n:\",arr)\n",
    "print(\"\\n array data type:\\n:\",arr.dtype)"
   ]
  },
  {
   "cell_type": "code",
   "execution_count": 49,
   "id": "9dcf5868-c303-4e57-a9ac-f9587f1c4a5d",
   "metadata": {},
   "outputs": [
    {
     "name": "stdout",
     "output_type": "stream",
     "text": [
      "\n",
      " three dimensional array:\n",
      ": [[ 1  2  3]\n",
      " [ 4  5  6]\n",
      " [ 7  8  9]\n",
      " [10 11 12]]\n",
      "\n",
      " array's length:\n",
      ": 4\n"
     ]
    }
   ],
   "source": [
    "import numpy  as op\n",
    "arr=op.array([[1,2,3],[4,5,6],[7,8,9],[10,11,12]])\n",
    "print(\"\\n three dimensional array:\\n:\",arr)\n",
    "print(\"\\n array's length:\\n:\",len(arr))"
   ]
  },
  {
   "cell_type": "code",
   "execution_count": 3,
   "id": "42d00cbc-9f68-4fbe-ad7c-3bd8d90a2254",
   "metadata": {},
   "outputs": [
    {
     "name": "stdout",
     "output_type": "stream",
     "text": [
      "[1. 2. 3.]\n"
     ]
    }
   ],
   "source": [
    "import numpy as np \n",
    "a=[1,2,3]\n",
    "a=np.array(a)\n",
    "newtype=a.astype('float64')\n",
    "print(newtype)"
   ]
  },
  {
   "cell_type": "code",
   "execution_count": 9,
   "id": "597cef74-fc94-4f12-96d5-ac0750c619f7",
   "metadata": {},
   "outputs": [
    {
     "name": "stdout",
     "output_type": "stream",
     "text": [
      "[3 4 5 6]\n"
     ]
    }
   ],
   "source": [
    "import numpy as np\n",
    "arr=np.array([1,2,3,4,5,6,7,8,9])\n",
    "slice=arr[2:6]\n",
    "print(slice)\n"
   ]
  },
  {
   "cell_type": "code",
   "execution_count": 11,
   "id": "7c61bc87-e97f-4275-ab2a-010fe3e0c974",
   "metadata": {},
   "outputs": [
    {
     "name": "stdout",
     "output_type": "stream",
     "text": [
      "[9 8 7 6 5 4 3 2 1]\n"
     ]
    }
   ],
   "source": [
    "import numpy as np\n",
    "arr=np.array([1,2,3,4,5,6,7,8,9])\n",
    "slice=arr[::-1]\n",
    "print(slice)"
   ]
  },
  {
   "cell_type": "code",
   "execution_count": 31,
   "id": "1abc37a4-5605-48d9-a8ec-a22ff0049801",
   "metadata": {},
   "outputs": [
    {
     "name": "stdout",
     "output_type": "stream",
     "text": [
      "[[2 3]\n",
      " [5 6]\n",
      " [8 9]]\n"
     ]
    }
   ],
   "source": [
    "arr=np.array([[1,2,3],[4,5,6],[7,8,9]])\n",
    "substring=arr[0:3,1:3]\n",
    "print(substring)"
   ]
  },
  {
   "cell_type": "code",
   "execution_count": 47,
   "id": "6a1eb74c-fe8e-4561-b9c3-42bb1891d194",
   "metadata": {},
   "outputs": [
    {
     "name": "stdout",
     "output_type": "stream",
     "text": [
      "substring:\n",
      " [[2 3]\n",
      " [5 6]\n",
      " [8 9]]\n",
      "columnslicing\n",
      ": [1 4 7]\n"
     ]
    }
   ],
   "source": [
    "arr=np.array([[1,2,3],[4,5,6],[7,8,9]])\n",
    "substring=arr[0:3,1:3]\n",
    "print(\"substring:\\n\",substring)\n",
    "column1=arr[:,0]\n",
    "print(\"columnslicing\\n:\",column1)"
   ]
  },
  {
   "cell_type": "code",
   "execution_count": 49,
   "id": "1cc9161c-10ba-4606-99f1-71f74311f4b4",
   "metadata": {},
   "outputs": [
    {
     "name": "stdout",
     "output_type": "stream",
     "text": [
      "rowslicing\n",
      ": [1 2 3]\n"
     ]
    }
   ],
   "source": [
    "row1=arr[0,:]\n",
    "print(\"rowslicing\\n:\",row1)"
   ]
  },
  {
   "cell_type": "code",
   "execution_count": 53,
   "id": "ed706373-75d6-4d69-9656-04eaa148caf7",
   "metadata": {},
   "outputs": [
    {
     "name": "stdout",
     "output_type": "stream",
     "text": [
      "10\n",
      "40\n"
     ]
    }
   ],
   "source": [
    "import numpy as np\n",
    "import array\n",
    "arr=array.array('i',[10,20,30,40,50])\n",
    "print(arr[0])\n",
    "print(arr[3])"
   ]
  },
  {
   "cell_type": "code",
   "execution_count": 61,
   "id": "a084a766-2bba-4163-8e36-d1868ece1db4",
   "metadata": {},
   "outputs": [
    {
     "name": "stdout",
     "output_type": "stream",
     "text": [
      "1\n"
     ]
    }
   ],
   "source": [
    "arr=np.array([[1,2,3],[4,5,6],[7,8,9]])\n",
    "print(arr[0,0])"
   ]
  },
  {
   "cell_type": "code",
   "execution_count": 63,
   "id": "104a3eb8-dda4-46f2-8ebe-a76281832734",
   "metadata": {},
   "outputs": [
    {
     "name": "stdout",
     "output_type": "stream",
     "text": [
      "[[4 5 6]\n",
      " [7 8 9]]\n"
     ]
    }
   ],
   "source": [
    "print(arr[1:4])"
   ]
  },
  {
   "cell_type": "code",
   "execution_count": 13,
   "id": "bb557635-10f7-428c-8e68-9af370a84236",
   "metadata": {},
   "outputs": [
    {
     "name": "stdout",
     "output_type": "stream",
     "text": [
      "[1 2 3 4 5 6 7 8 9]\n"
     ]
    }
   ],
   "source": [
    "import numpy as np\n",
    "arr=np.array([[1,2,3],[4,5,6],[7,8,9]])\n",
    "print(arr[arr<20])"
   ]
  },
  {
   "cell_type": "code",
   "execution_count": 7,
   "id": "41a0664f-a7cb-4319-b9eb-19d4f19f56cc",
   "metadata": {},
   "outputs": [
    {
     "name": "stdout",
     "output_type": "stream",
     "text": [
      "[[1 2 5 6]\n",
      " [3 4 7 8]]\n"
     ]
    }
   ],
   "source": [
    "#horizontal_join\n",
    "import numpy as np\n",
    "arr1=np.array([[1,2],[3,4]])\n",
    "arr2=np.array([[5,6],[7,8]])\n",
    "result=np.hstack((arr1,arr2))\n",
    "print(result)"
   ]
  },
  {
   "cell_type": "code",
   "execution_count": 9,
   "id": "98f385ab-954e-4e97-894d-193add2e2fce",
   "metadata": {},
   "outputs": [
    {
     "name": "stdout",
     "output_type": "stream",
     "text": [
      "[[1 2]\n",
      " [3 4]\n",
      " [5 6]\n",
      " [7 8]]\n"
     ]
    }
   ],
   "source": [
    "#vertical_join\n",
    "result=np.vstack((arr1,arr2))\n",
    "print(result)"
   ]
  },
  {
   "cell_type": "code",
   "execution_count": 11,
   "id": "f13f46b9-f205-4753-a539-325e3de3c688",
   "metadata": {},
   "outputs": [
    {
     "name": "stdout",
     "output_type": "stream",
     "text": [
      "[[[1 5]\n",
      "  [2 6]]\n",
      "\n",
      " [[3 7]\n",
      "  [4 8]]]\n"
     ]
    }
   ],
   "source": [
    "#depth_join\n",
    "result=np.dstack((arr1,arr2))\n",
    "print(result)"
   ]
  },
  {
   "cell_type": "code",
   "execution_count": 29,
   "id": "4308a816-866d-483e-86b1-c0993cf361ca",
   "metadata": {},
   "outputs": [
    {
     "name": "stdout",
     "output_type": "stream",
     "text": [
      "[array([1, 2]), array([3, 4]), array([5])]\n"
     ]
    }
   ],
   "source": [
    "#array_splitting_unequal\n",
    "import numpy as np\n",
    "arr=np.array([1,2,3,4,5])\n",
    "result=np.array_split(arr,3)\n",
    "print (result)"
   ]
  },
  {
   "cell_type": "code",
   "execution_count": 31,
   "id": "e4263f37-de1c-4397-bd8c-18dc8a6e28c7",
   "metadata": {},
   "outputs": [
    {
     "name": "stdout",
     "output_type": "stream",
     "text": [
      "[array([1, 2]), array([3, 4]), array([5, 6])]\n"
     ]
    }
   ],
   "source": [
    "#array_splitting_equal\n",
    "import numpy as np\n",
    "arr=np.array([1,2,3,4,5,6])\n",
    "result=np.split(arr,3)\n",
    "print (result)"
   ]
  },
  {
   "cell_type": "code",
   "execution_count": null,
   "id": "bbaa0857-d34a-4490-aedf-38e75c0815e0",
   "metadata": {},
   "outputs": [],
   "source": []
  }
 ],
 "metadata": {
  "kernelspec": {
   "display_name": "Python 3 (ipykernel)",
   "language": "python",
   "name": "python3"
  },
  "language_info": {
   "codemirror_mode": {
    "name": "ipython",
    "version": 3
   },
   "file_extension": ".py",
   "mimetype": "text/x-python",
   "name": "python",
   "nbconvert_exporter": "python",
   "pygments_lexer": "ipython3",
   "version": "3.11.11"
  }
 },
 "nbformat": 4,
 "nbformat_minor": 5
}

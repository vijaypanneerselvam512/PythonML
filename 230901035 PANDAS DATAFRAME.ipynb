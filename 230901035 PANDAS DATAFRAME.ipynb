{
 "cells": [
  {
   "cell_type": "code",
   "execution_count": 1,
   "id": "61779138",
   "metadata": {},
   "outputs": [
    {
     "name": "stdout",
     "output_type": "stream",
     "text": [
      "\n",
      " Original DataFrame:\n",
      "    S  R\n",
      "0  3  9\n",
      "1  3  9\n",
      "2  3  9\n",
      "3  3  9\n",
      "\n",
      " Square root:\n",
      "           S    R\n",
      "0  1.732051  3.0\n",
      "1  1.732051  3.0\n",
      "2  1.732051  3.0\n",
      "3  1.732051  3.0\n",
      "\n",
      " Set of each column:\n",
      " S    12\n",
      "R    36\n",
      "dtype: int64\n",
      "\n",
      " Set of each row:\n",
      " 0    12\n",
      "1    12\n",
      "2    12\n",
      "3    12\n",
      "dtype: int64\n"
     ]
    }
   ],
   "source": [
    "import pandas as pd\n",
    "import numpy as np\n",
    "info=pd.DataFrame([[3,9]]*4,columns=['S','R'])\n",
    "print(\"\\n Original DataFrame:\\n\",info)\n",
    "print(\"\\n Square root:\\n\",info.apply(np.sqrt))\n",
    "print(\"\\n Set of each column:\\n\",info.apply(np.sum,axis=0))\n",
    "print(\"\\n Set of each row:\\n\",info.apply(np.sum,axis=1))"
   ]
  },
  {
   "cell_type": "code",
   "execution_count": 2,
   "id": "d82fb998",
   "metadata": {
    "scrolled": true
   },
   "outputs": [
    {
     "name": "stdout",
     "output_type": "stream",
     "text": [
      "   X  Y  Z\n",
      "0  2  4  6\n",
      "1  1  3  5\n",
      "2  5  8  7\n",
      "     X  Y  Z\n",
      "min  1  3  5\n",
      "max  5  8  7\n"
     ]
    }
   ],
   "source": [
    "import pandas as pd \n",
    "import numpy as np\n",
    "info=pd.DataFrame([[2,4,6],[1,3,5],[5,8,7]],columns=['X','Y','Z'])\n",
    "print(info)\n",
    "print(info.agg(['min','max']))"
   ]
  },
  {
   "cell_type": "code",
   "execution_count": 3,
   "id": "c00cd643",
   "metadata": {},
   "outputs": [
    {
     "name": "stdout",
     "output_type": "stream",
     "text": [
      "  ExpName  ID\n",
      "0     sai  88\n",
      "1     vai  70\n",
      "\n",
      "adding new colunm:\n",
      "   ExpName  ID  age\n",
      "0     sai  88   20\n",
      "1     vai  70   18\n",
      "\n",
      "adding new colunm:\n",
      "   ExpName  ID  age     sex\n",
      "0     sai  88   20    male\n",
      "1     vai  70   18  female\n"
     ]
    }
   ],
   "source": [
    "import pandas as pd \n",
    "import numpy as np\n",
    "d2=pd.DataFrame([['sai',88],['vai',70]],columns=[\"ExpName\",\"ID\"])\n",
    "print(d2)\n",
    "d2['age']=[20,18]\n",
    "print(\"\\nadding new colunm:\\n\",d2)\n",
    "d2['sex']=['male','female']\n",
    "print(\"\\nadding new colunm:\\n\",d2)"
   ]
  },
  {
   "cell_type": "code",
   "execution_count": 4,
   "id": "7146298d",
   "metadata": {},
   "outputs": [
    {
     "name": "stdout",
     "output_type": "stream",
     "text": [
      "       col1      col2\n",
      "3 -0.017779  0.532125\n",
      "0 -0.087870 -0.186512\n",
      "2 -0.497885  0.135644\n",
      "4 -0.500208 -2.022008\n",
      "1 -0.276946  2.710809\n",
      "       col1      col2\n",
      "0 -0.087870 -0.186512\n",
      "1 -0.276946  2.710809\n",
      "2 -0.497885  0.135644\n",
      "3 -0.017779  0.532125\n",
      "4 -0.500208 -2.022008\n",
      "       col1      col2\n",
      "4 -0.500208 -2.022008\n",
      "0 -0.087870 -0.186512\n",
      "2 -0.497885  0.135644\n",
      "3 -0.017779  0.532125\n",
      "1 -0.276946  2.710809\n",
      "       col1      col2\n",
      "4 -0.500208 -2.022008\n",
      "2 -0.497885  0.135644\n",
      "1 -0.276946  2.710809\n",
      "0 -0.087870 -0.186512\n",
      "3 -0.017779  0.532125\n"
     ]
    }
   ],
   "source": [
    "import pandas as pd \n",
    "import numpy as np\n",
    "info=pd.DataFrame(np.random.randn(5,2),index=[3,0,2,4,1],columns=['col1','col2'])\n",
    "print(info)\n",
    "info2=info.sort_index()\n",
    "print(info2)\n",
    "info3=info.sort_values(by='col2')\n",
    "print(info3)\n",
    "info4=info.sort_values(by='col1')\n",
    "print(info4)"
   ]
  },
  {
   "cell_type": "code",
   "execution_count": null,
   "id": "fa0be274",
   "metadata": {},
   "outputs": [],
   "source": [
    "import pandas as pd \n",
    "import numpy as np\n"
   ]
  }
 ],
 "metadata": {
  "kernelspec": {
   "display_name": "Python 3 (ipykernel)",
   "language": "python",
   "name": "python3"
  },
  "language_info": {
   "codemirror_mode": {
    "name": "ipython",
    "version": 3
   },
   "file_extension": ".py",
   "mimetype": "text/x-python",
   "name": "python",
   "nbconvert_exporter": "python",
   "pygments_lexer": "ipython3",
   "version": "3.11.5"
  }
 },
 "nbformat": 4,
 "nbformat_minor": 5
}

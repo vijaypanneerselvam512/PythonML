{
 "cells": [
  {
   "cell_type": "code",
   "execution_count": 41,
   "id": "e41c0000-5873-43b0-b47f-04acdddb09f0",
   "metadata": {},
   "outputs": [
    {
     "name": "stdout",
     "output_type": "stream",
     "text": [
      "       a  b  c\n",
      "one    2  4  6\n",
      "two    1  3  5\n",
      "three  5  8  7\n"
     ]
    }
   ],
   "source": [
    "import pandas as pd\n",
    "import numpy as np\n",
    "df=pd.DataFrame([[2,4,6],[1,3,5],[5,8,7]],index=['one','two','three'],columns=['a','b','c'])\n",
    "print(df)"
   ]
  },
  {
   "cell_type": "code",
   "execution_count": 42,
   "id": "638f5f8a-180b-4420-9aea-c7e6a6517e27",
   "metadata": {},
   "outputs": [],
   "source": [
    "df.to_excel(\"/Users/student/Downloads/Excelsheet1.xlsx\")\n",
    "df.to_excel(\"/Users/student/Downloads/Excelsheet2.xlsx\")"
   ]
  },
  {
   "cell_type": "code",
   "execution_count": 43,
   "id": "dd57b03b-7bd0-4ad0-bbac-09d97265e4f1",
   "metadata": {},
   "outputs": [],
   "source": [
    "df=pd.DataFrame([[10,20,30],[40,50,60],[70,80,90]],index=['one','two','three'],columns=['x','Y','Z'])\n",
    "df.to_excel(\"/Users/student/Downloads/Excelsheet1.xlsx\",sheet_name='sheet1')"
   ]
  },
  {
   "cell_type": "code",
   "execution_count": 44,
   "id": "309c3358-9e4a-45ad-aa8c-cd7572563d1c",
   "metadata": {},
   "outputs": [],
   "source": [
    "df=pd.DataFrame([[6,7,8],[9,10,11],[12,13,14]],index=['one','two','three'],columns=['A','B','C'])\n",
    "df.to_excel(\"/Users/student/Downloads/Excelsheet2.xlsx\",sheet_name='sheet1')"
   ]
  },
  {
   "cell_type": "code",
   "execution_count": 52,
   "id": "f81d70d6-2df9-45f5-94f4-fc54747de520",
   "metadata": {},
   "outputs": [],
   "source": [
    "x=pd.read_excel(\"/Users/student/Downloads/Excelsheet1.xlsx\")\n",
    "y=pd.read_excel(\"/Users/student/Downloads/Excelsheet2.xlsx\")\n",
    "z=pd.concat([x,y])\n",
    "z.to_excel(\"/Users/student/Downloads/Excelsheet3.xlsx\",sheet_name='sheet1')"
   ]
  },
  {
   "cell_type": "code",
   "execution_count": null,
   "id": "c81c736f-1b9f-4f61-8cec-962892de9f30",
   "metadata": {},
   "outputs": [],
   "source": []
  }
 ],
 "metadata": {
  "kernelspec": {
   "display_name": "Python 3 (ipykernel)",
   "language": "python",
   "name": "python3"
  },
  "language_info": {
   "codemirror_mode": {
    "name": "ipython",
    "version": 3
   },
   "file_extension": ".py",
   "mimetype": "text/x-python",
   "name": "python",
   "nbconvert_exporter": "python",
   "pygments_lexer": "ipython3",
   "version": "3.11.11"
  }
 },
 "nbformat": 4,
 "nbformat_minor": 5
}

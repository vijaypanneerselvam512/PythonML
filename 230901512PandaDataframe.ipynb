{
 "cells": [
  {
   "cell_type": "code",
   "execution_count": 2,
   "id": "be10d68b",
   "metadata": {},
   "outputs": [
    {
     "name": "stdout",
     "output_type": "stream",
     "text": [
      "   S  R\n",
      "0  3  9\n",
      "1  3  9\n",
      "2  3  9\n",
      "3  3  9\n",
      "S    12\n",
      "R    36\n",
      "dtype: int64\n",
      "0    12\n",
      "1    12\n",
      "2    12\n",
      "3    12\n",
      "dtype: int64\n",
      "          S    R\n",
      "0  1.732051  3.0\n",
      "1  1.732051  3.0\n",
      "2  1.732051  3.0\n",
      "3  1.732051  3.0\n"
     ]
    }
   ],
   "source": [
    "import pandas as pd\n",
    "import numpy as np\n",
    "info =pd.DataFrame([[3,9]]*4,columns=['S','R'])\n",
    "print(info)\n",
    "print(info.apply(np.sum,axis=0))\n",
    "print(info.apply(np.sum,axis=1))\n",
    "print(info.apply(np.sqrt))"
   ]
  },
  {
   "cell_type": "code",
   "execution_count": 8,
   "id": "38fd0013",
   "metadata": {},
   "outputs": [
    {
     "name": "stdout",
     "output_type": "stream",
     "text": [
      "   X  Y  Z\n",
      "0  2  4  6\n",
      "1  1  3  5\n",
      "2  5  8  7\n",
      "     X  Y  Z\n",
      "min  1  3  5\n",
      "max  5  8  7\n"
     ]
    }
   ],
   "source": [
    "import pandas as pd\n",
    "import numpy as np\n",
    "a=pd.DataFrame([[2,4,6],[1,3,5],[5,8,7]],columns=['X',\"Y\",'Z'])\n",
    "print(a)\n",
    "print(a.agg(['min','max']))"
   ]
  },
  {
   "cell_type": "code",
   "execution_count": 4,
   "id": "bfb829c6",
   "metadata": {},
   "outputs": [
    {
     "name": "stdout",
     "output_type": "stream",
     "text": [
      "     Name  Id\n",
      "0     Sai  88\n",
      "1  Sanjai  70\n",
      "\n",
      "      Name  Id  Age\n",
      "0     Sai  88   20\n",
      "1  Sanjai  70   18\n",
      "\n",
      "      Name  Id  Age   Sex\n",
      "0     Sai  88   20  Male\n",
      "1  Sanjai  70   18  Male\n"
     ]
    }
   ],
   "source": [
    "d2=pd.DataFrame([[\"Sai\",88],[\"Sanjai\",70]],columns=['Name','Id'])\n",
    "print(d2)\n",
    "d2['Age']=[20,18]                 \n",
    "print(\"\\n\",d2)\n",
    "d2[\"Sex\"]=['Male','Male']\n",
    "print(\"\\n\",d2)\n"
   ]
  },
  {
   "cell_type": "code",
   "execution_count": 5,
   "id": "619c9924",
   "metadata": {},
   "outputs": [
    {
     "name": "stdout",
     "output_type": "stream",
     "text": [
      "     Name  Id  age\n",
      "0     Sai  88   20\n",
      "1  Sanjai  70   18\n"
     ]
    }
   ],
   "source": [
    "d2=pd.DataFrame([[\"Sai\",88],[\"Sanjai\",70]],columns=['Name','Id'])\n",
    "a=d2.assign(age=[20,18])\n",
    "print(a)"
   ]
  },
  {
   "cell_type": "code",
   "execution_count": 6,
   "id": "b53d1e05",
   "metadata": {},
   "outputs": [
    {
     "name": "stdout",
     "output_type": "stream",
     "text": [
      "        3rd       4th\n",
      "3  0.343515  0.630294\n",
      "2 -0.756213  0.155975\n",
      "0  2.447543 -0.252634\n",
      "4 -0.100168  0.040340\n",
      "1  1.161478  0.973156\n",
      "        3rd       4th\n",
      "0  2.447543 -0.252634\n",
      "1  1.161478  0.973156\n",
      "2 -0.756213  0.155975\n",
      "3  0.343515  0.630294\n",
      "4 -0.100168  0.040340\n",
      "        3rd       4th\n",
      "2 -0.756213  0.155975\n",
      "4 -0.100168  0.040340\n",
      "3  0.343515  0.630294\n",
      "1  1.161478  0.973156\n",
      "0  2.447543 -0.252634\n"
     ]
    }
   ],
   "source": [
    "import numpy as np\n",
    "import pandas as pd\n",
    "info=pd.DataFrame(np.random.randn(5,2),index=[3,2,0,4,1],columns=[\"3rd\",\"4th\"])\n",
    "print(info)\n",
    "a=info.sort_index()\n",
    "print(a)\n",
    "b=a.sort_values(by='3rd')\n",
    "print(b)\n",
    "\n"
   ]
  },
  {
   "cell_type": "code",
   "execution_count": 7,
   "id": "9b346415",
   "metadata": {},
   "outputs": [
    {
     "name": "stdout",
     "output_type": "stream",
     "text": [
      "   id  Name   Sub\n",
      "0   1   Sai  Sub1\n",
      "1   2   Poo  Sub2\n",
      "2   3  Saba  Sub4\n",
      "3   4  Yuvi  Sub3\n",
      "   id    Name   Sub\n",
      "0   1  Sanjay  Sub2\n",
      "1   2   Saran  Sub4\n",
      "2   3     Som  Sub3\n",
      "3   4    Ruba  Sub5\n",
      "   id Name_x Sub_x  Name_y Sub_y\n",
      "0   1    Sai  Sub1  Sanjay  Sub2\n",
      "1   2    Poo  Sub2   Saran  Sub4\n",
      "2   3   Saba  Sub4     Som  Sub3\n",
      "3   4   Yuvi  Sub3    Ruba  Sub5\n"
     ]
    }
   ],
   "source": [
    "import pandas as pd\n",
    "import numpy as np\n",
    "left =pd.DataFrame({'id':[1,2,3,4],'Name':['Sai','Poo','Saba','Yuvi'],'Sub':['Sub1','Sub2','Sub4','Sub3']})\n",
    "right=pd.DataFrame({'id':[1,2,3,4],'Name':['Sanjay','Saran','Som','Ruba'],'Sub':['Sub2','Sub4','Sub3','Sub5']})\n",
    "print(left)\n",
    "print(right)\n",
    "print(pd.merge(left,right,on=\"id\"))"
   ]
  },
  {
   "cell_type": "code",
   "execution_count": null,
   "id": "9dde481c",
   "metadata": {},
   "outputs": [],
   "source": []
  }
 ],
 "metadata": {
  "kernelspec": {
   "display_name": "Python 3 (ipykernel)",
   "language": "python",
   "name": "python3"
  },
  "language_info": {
   "codemirror_mode": {
    "name": "ipython",
    "version": 3
   },
   "file_extension": ".py",
   "mimetype": "text/x-python",
   "name": "python",
   "nbconvert_exporter": "python",
   "pygments_lexer": "ipython3",
   "version": "3.11.5"
  }
 },
 "nbformat": 4,
 "nbformat_minor": 5
}

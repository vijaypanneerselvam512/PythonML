{
 "cells": [
  {
   "cell_type": "code",
   "execution_count": 3,
   "id": "8b96cf86-3a4c-41ef-9c44-1ed33a3e6d51",
   "metadata": {},
   "outputs": [
    {
     "name": "stdout",
     "output_type": "stream",
     "text": [
      "Date Index \n",
      " 2011-01-02    1.794214\n",
      "2011-01-05    0.260291\n",
      "2011-01-07   -0.253796\n",
      "2011-01-08    1.030307\n",
      "2011-01-10    0.638278\n",
      "2011-01-12   -0.897492\n",
      "dtype: float64\n"
     ]
    }
   ],
   "source": [
    "import pandas as pd\n",
    "import numpy as np\n",
    "from datetime import datetime\n",
    "\n",
    "#create a date variable that contains the dates\n",
    "dates = [datetime(2011, 1, 2),\n",
    "datetime(2011, 1, 5),\n",
    "datetime(2011, 1, 7),\n",
    "datetime(2011, 1, 8),\n",
    "datetime(2011, 1, 10),\n",
    "datetime(2011, 1, 12)]\n",
    "\n",
    "#with this date object, create a series\n",
    "ts = pd.Series(np.random.randn(6), index=dates)\n",
    "print(\"Date Index \\n\",ts)"
   ]
  },
  {
   "cell_type": "code",
   "execution_count": 7,
   "id": "10fc30ff-d10a-4008-80ab-9bf2a0b7a8af",
   "metadata": {},
   "outputs": [
    {
     "name": "stdout",
     "output_type": "stream",
     "text": [
      "\n",
      "Date Index alone from the series: \n",
      " DatetimeIndex(['2011-01-02', '2011-01-05', '2011-01-07', '2011-01-08',\n",
      "               '2011-01-10', '2011-01-12'],\n",
      "              dtype='datetime64[ns]', freq=None)\n"
     ]
    }
   ],
   "source": [
    "print(\"\\nDate Index alone from the series: \\n\",ts.index)"
   ]
  },
  {
   "cell_type": "code",
   "execution_count": 9,
   "id": "2ce57990-d54f-4c54-ba6d-7aa79d5d133f",
   "metadata": {},
   "outputs": [
    {
     "name": "stdout",
     "output_type": "stream",
     "text": [
      "\n",
      "Second index:\n",
      " 2011-01-07 00:00:00\n"
     ]
    }
   ],
   "source": [
    "stamp=ts.index[2]\n",
    "print(\"\\nSecond index:\\n\", stamp)"
   ]
  },
  {
   "cell_type": "code",
   "execution_count": 11,
   "id": "690b4d7d-1e13-4fe1-a464-4ebd8c244c7a",
   "metadata": {},
   "outputs": [
    {
     "name": "stdout",
     "output_type": "stream",
     "text": [
      "\n",
      "Daterange up to 1000 days:\n",
      " 2000-01-01   -0.285051\n",
      "2000-01-02   -0.105261\n",
      "2000-01-03   -0.412786\n",
      "2000-01-04   -0.096039\n",
      "2000-01-05    0.714578\n",
      "                ...   \n",
      "2002-09-22    0.233516\n",
      "2002-09-23    1.712355\n",
      "2002-09-24    0.121372\n",
      "2002-09-25    0.306046\n",
      "2002-09-26   -2.577445\n",
      "Freq: D, Length: 1000, dtype: float64\n"
     ]
    }
   ],
   "source": [
    "#play like a ball with long-times series\n",
    "longer_ts=pd.Series(np.random.randn(1000),\n",
    " index=pd.date_range(\"2000-01-01\",periods=1000))\n",
    "print(\"\\nDaterange up to 1000 days:\\n\",longer_ts)"
   ]
  },
  {
   "cell_type": "code",
   "execution_count": 13,
   "id": "cf5f49e6-fc53-4d3e-ae92-e31847af619d",
   "metadata": {},
   "outputs": [
    {
     "name": "stdout",
     "output_type": "stream",
     "text": [
      "\n",
      "Date range-2001 year:\n",
      " 2001-01-01   -0.154212\n",
      "2001-01-02    1.267492\n",
      "2001-01-03    2.507685\n",
      "2001-01-04   -0.348360\n",
      "2001-01-05    2.118487\n",
      "                ...   \n",
      "2001-12-27   -0.203689\n",
      "2001-12-28    1.679332\n",
      "2001-12-29    0.899428\n",
      "2001-12-30   -2.541365\n",
      "2001-12-31   -0.897642\n",
      "Freq: D, Length: 365, dtype: float64\n"
     ]
    }
   ],
   "source": [
    "print(\"\\nDate range-2001 year:\\n\", longer_ts[\"2001\"])"
   ]
  },
  {
   "cell_type": "code",
   "execution_count": 15,
   "id": "7ce0324e-65d5-4d7f-888d-6a6fee3ed6ef",
   "metadata": {},
   "outputs": [
    {
     "name": "stdout",
     "output_type": "stream",
     "text": [
      "\n",
      "Date range-05 month 2001 year:\n",
      " 2001-05-01    0.687466\n",
      "2001-05-02   -0.677312\n",
      "2001-05-03   -0.503653\n",
      "2001-05-04   -0.091304\n",
      "2001-05-05    0.399022\n",
      "2001-05-06   -0.923665\n",
      "2001-05-07   -0.904368\n",
      "2001-05-08   -0.678198\n",
      "2001-05-09   -0.393294\n",
      "2001-05-10    1.312379\n",
      "2001-05-11    0.185700\n",
      "2001-05-12    1.438811\n",
      "2001-05-13    0.268785\n",
      "2001-05-14    0.044384\n",
      "2001-05-15   -0.318304\n",
      "2001-05-16    1.815833\n",
      "2001-05-17    0.483807\n",
      "2001-05-18   -0.935485\n",
      "2001-05-19    0.468836\n",
      "2001-05-20    0.320625\n",
      "2001-05-21   -2.256620\n",
      "2001-05-22    0.690362\n",
      "2001-05-23   -0.316509\n",
      "2001-05-24   -0.951336\n",
      "2001-05-25    0.723880\n",
      "2001-05-26   -1.483873\n",
      "2001-05-27    0.182147\n",
      "2001-05-28    1.554106\n",
      "2001-05-29    0.710406\n",
      "2001-05-30   -1.998184\n",
      "2001-05-31   -0.813211\n",
      "Freq: D, dtype: float64\n"
     ]
    }
   ],
   "source": [
    "print(\"\\nDate range-05 month 2001 year:\\n\", longer_ts[\"2001-05\"])"
   ]
  },
  {
   "cell_type": "code",
   "execution_count": 17,
   "id": "5cb5a2c8-66e3-40ce-9c38-353cf26e7422",
   "metadata": {},
   "outputs": [
    {
     "name": "stdout",
     "output_type": "stream",
     "text": [
      "\n",
      "Date range-first few dates in 2000 year:\n",
      " 2000-01-01   -0.285051\n",
      "2000-01-02   -0.105261\n",
      "2000-01-03   -0.412786\n",
      "2000-01-04   -0.096039\n",
      "2000-01-05    0.714578\n",
      "Freq: D, dtype: float64\n"
     ]
    }
   ],
   "source": [
    "print(\"\\nDate range-first few dates in 2000 year:\\n\",longer_ts[\"2000\"].head())"
   ]
  },
  {
   "cell_type": "code",
   "execution_count": 19,
   "id": "131573d2-a9a9-43c4-b1f6-b864bbb1a967",
   "metadata": {},
   "outputs": [
    {
     "name": "stdout",
     "output_type": "stream",
     "text": [
      "\n",
      "Date range-first 15 dates in 02 month 2001 year:\n",
      " 2000-02-01    0.024318\n",
      "2000-02-02   -1.310798\n",
      "2000-02-03   -0.257450\n",
      "2000-02-04   -1.668268\n",
      "2000-02-05   -0.264553\n",
      "2000-02-06   -0.603653\n",
      "2000-02-07    0.960593\n",
      "2000-02-08    0.943242\n",
      "2000-02-09    0.401476\n",
      "2000-02-10    0.467021\n",
      "2000-02-11    1.139884\n",
      "2000-02-12    0.581171\n",
      "2000-02-13    1.087954\n",
      "2000-02-14    0.723273\n",
      "2000-02-15    1.511999\n",
      "Freq: D, dtype: float64\n"
     ]
    }
   ],
   "source": [
    "print(\"\\nDate range-first 15 dates in 02 month 2001 year:\\n\",longer_ts[\"2000-02\"].head(15))"
   ]
  },
  {
   "cell_type": "code",
   "execution_count": 21,
   "id": "a1c2eed8-e324-4f79-8050-61560703e75a",
   "metadata": {},
   "outputs": [
    {
     "name": "stdout",
     "output_type": "stream",
     "text": [
      "\n",
      "Date range-rom 26-9-2001:\n",
      " 2000-09-26   -0.689796\n",
      "2000-09-27    0.276667\n",
      "2000-09-28    0.271660\n",
      "2000-09-29   -1.138785\n",
      "2000-09-30   -0.458270\n",
      "                ...   \n",
      "2002-09-22    0.233516\n",
      "2002-09-23    1.712355\n",
      "2002-09-24    0.121372\n",
      "2002-09-25    0.306046\n",
      "2002-09-26   -2.577445\n",
      "Freq: D, Length: 731, dtype: float64\n"
     ]
    }
   ],
   "source": [
    "print(\"\\nDate range-rom 26-9-2001:\\n\",longer_ts[datetime(2000,9,26):])"
   ]
  },
  {
   "cell_type": "code",
   "execution_count": 23,
   "id": "a39b679f-fd3e-48dc-a4ca-df195fb4ef90",
   "metadata": {},
   "outputs": [
    {
     "name": "stdout",
     "output_type": "stream",
     "text": [
      "\n",
      "Date range from 26-9-2001 to 25-9- 2002:\n",
      " 2001-09-26   -0.142613\n",
      "2001-09-27    0.222918\n",
      "2001-09-28    0.451803\n",
      "2001-09-29   -0.519727\n",
      "2001-09-30   -0.743005\n",
      "                ...   \n",
      "2002-09-21   -1.702197\n",
      "2002-09-22    0.233516\n",
      "2002-09-23    1.712355\n",
      "2002-09-24    0.121372\n",
      "2002-09-25    0.306046\n",
      "Freq: D, Length: 365, dtype: float64\n"
     ]
    }
   ],
   "source": [
    "print(\"\\nDate range from 26-9-2001 to 25-9- 2002:\\n\",longer_ts[datetime(2001,9,26):datetime(2002,9,25)])"
   ]
  },
  {
   "cell_type": "code",
   "execution_count": null,
   "id": "55f03822-3a62-48b6-85a0-58265019bf13",
   "metadata": {},
   "outputs": [],
   "source": []
  }
 ],
 "metadata": {
  "kernelspec": {
   "display_name": "Python 3 (ipykernel)",
   "language": "python",
   "name": "python3"
  },
  "language_info": {
   "codemirror_mode": {
    "name": "ipython",
    "version": 3
   },
   "file_extension": ".py",
   "mimetype": "text/x-python",
   "name": "python",
   "nbconvert_exporter": "python",
   "pygments_lexer": "ipython3",
   "version": "3.11.11"
  }
 },
 "nbformat": 4,
 "nbformat_minor": 5
}

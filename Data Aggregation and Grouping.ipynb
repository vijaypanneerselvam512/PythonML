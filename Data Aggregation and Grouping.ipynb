{
 "cells": [
  {
   "cell_type": "code",
   "execution_count": 1,
   "id": "4267da7a",
   "metadata": {},
   "outputs": [
    {
     "name": "stdout",
     "output_type": "stream",
     "text": [
      "Original DataFrame:\n",
      "          A      B  C  D\n",
      "0      Abi    One  1  3\n",
      "1     Babu    Two  6  0\n",
      "2  Charles  Three  6  5\n",
      "3   Darwin    One  3  2\n",
      "4      Abi    Two  6  0\n",
      "5  Charles  Three  5  2\n",
      "6   Darwin    One  5  6\n"
     ]
    }
   ],
   "source": [
    "import pandas as pd\n",
    "import numpy as np\n",
    "d=pd.DataFrame({'A':['Abi','Babu','Charles','Darwin','Abi','Charles','Darwin'],'B':['One','Two','Three','One','Two','Three','One'],'C':np.random.randint(7,size=7),'D':np.random.randint(7,size=7)})\n",
    "print(\"Original DataFrame:\\n\",d)"
   ]
  },
  {
   "cell_type": "code",
   "execution_count": 2,
   "id": "df15db90",
   "metadata": {},
   "outputs": [
    {
     "name": "stdout",
     "output_type": "stream",
     "text": [
      "\n",
      "Original Dataframe:\n",
      "          A      B  C  D\n",
      "0      Abi    One  1  3\n",
      "1     Babu    Two  6  0\n",
      "2  Charles  Three  6  5\n",
      "3   Darwin    One  3  2\n",
      "4      Abi    Two  6  0\n",
      "5  Charles  Three  5  2\n",
      "6   Darwin    One  5  6\n",
      "\n",
      "Grouped Dataframe with one column:\n",
      "          A   C\n",
      "0      Abi   7\n",
      "1     Babu   6\n",
      "2  Charles  11\n",
      "3   Darwin   8\n"
     ]
    }
   ],
   "source": [
    "d1=d.groupby(['A'],as_index=False)['C'].sum()\n",
    "print(\"\\nOriginal Dataframe:\\n\",d)\n",
    "print('\\nGrouped Dataframe with one column:\\n',d1)"
   ]
  },
  {
   "cell_type": "code",
   "execution_count": 3,
   "id": "6d29e92b",
   "metadata": {},
   "outputs": [
    {
     "name": "stdout",
     "output_type": "stream",
     "text": [
      "\n",
      "Original Dataframe:\n",
      "          A      B  C  D\n",
      "0      Abi    One  1  3\n",
      "1     Babu    Two  6  0\n",
      "2  Charles  Three  6  5\n",
      "3   Darwin    One  3  2\n",
      "4      Abi    Two  6  0\n",
      "5  Charles  Three  5  2\n",
      "6   Darwin    One  5  6\n",
      "\n",
      "Grouped Dataframe with two column:\n",
      "          A      B   C\n",
      "0      Abi    One   1\n",
      "1      Abi    Two   6\n",
      "2     Babu    Two   6\n",
      "3  Charles  Three  11\n",
      "4   Darwin    One   8\n"
     ]
    }
   ],
   "source": [
    "d1=d.groupby(['A','B'],as_index=False)['C'].sum()\n",
    "print(\"\\nOriginal Dataframe:\\n\",d)\n",
    "print('\\nGrouped Dataframe with two column:\\n',d1)"
   ]
  },
  {
   "cell_type": "code",
   "execution_count": 4,
   "id": "d748ba32",
   "metadata": {},
   "outputs": [
    {
     "name": "stdout",
     "output_type": "stream",
     "text": [
      "  Category  Sales  Profit\n",
      "0        A    100      10\n",
      "1        B    200      15\n",
      "2        C    150      20\n",
      "3        A    150      25\n",
      "4        B    130      30\n",
      "5        C    200      15\n",
      "         Sales        Profit    \n",
      "           sum   mean    sum max\n",
      "Category                        \n",
      "A          250  125.0     35  25\n",
      "B          330  165.0     45  30\n",
      "C          350  175.0     35  20\n"
     ]
    }
   ],
   "source": [
    "d=pd.DataFrame({'Category':['A','B','C','A','B','C'],'Sales':[100,200,150,150,130,200],'Profit':[10,15,20,25,30,15]})\n",
    "print(d)\n",
    "d1=d.groupby('Category').agg({'Sales':['sum','mean'],'Profit':['sum','max']})\n",
    "print(d1)"
   ]
  },
  {
   "cell_type": "code",
   "execution_count": null,
   "id": "16667f20",
   "metadata": {},
   "outputs": [],
   "source": []
  }
 ],
 "metadata": {
  "kernelspec": {
   "display_name": "Python 3 (ipykernel)",
   "language": "python",
   "name": "python3"
  },
  "language_info": {
   "codemirror_mode": {
    "name": "ipython",
    "version": 3
   },
   "file_extension": ".py",
   "mimetype": "text/x-python",
   "name": "python",
   "nbconvert_exporter": "python",
   "pygments_lexer": "ipython3",
   "version": "3.11.5"
  }
 },
 "nbformat": 4,
 "nbformat_minor": 5
}

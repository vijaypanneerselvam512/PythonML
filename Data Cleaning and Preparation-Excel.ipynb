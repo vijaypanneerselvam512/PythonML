{
 "cells": [
  {
   "cell_type": "code",
   "execution_count": 1,
   "id": "cc9d22b7",
   "metadata": {},
   "outputs": [
    {
     "name": "stdout",
     "output_type": "stream",
     "text": [
      "Original data:\n",
      "\n",
      "    Roll no Name  English  Tamil  Maths  Science  Social  Total\n",
      "0         1    A     90.0   90.0   99.0    100.0    89.0    468\n",
      "1         2    B     99.0   90.0   79.0     89.0    70.0    427\n",
      "2         3    C     89.0   90.0   79.0     89.0    70.0    417\n",
      "3         4    D     79.0   90.0   79.0     89.0    70.0    407\n",
      "4         5    E     88.0   90.0   79.0     89.0    70.0    416\n",
      "5         6    F     90.0   90.0   79.0     89.0    70.0    418\n",
      "6         7    G     98.0   90.0   79.0     89.0    70.0    426\n",
      "7         8    H     98.0   90.0   79.0     89.0    70.0    426\n",
      "8         9    I     99.0   90.0   79.0     89.0    70.0    427\n",
      "9        10    J     79.0   90.0   79.0     89.0    70.0    407\n",
      "10       11    K     80.0   90.0   79.0     89.0    70.0    408\n",
      "11       12    L      NaN    NaN    NaN      NaN     NaN      0\n",
      "12       13    M     88.0   90.0   79.0     89.0    70.0    416\n",
      "13       14    N     99.0   90.0   79.0     89.0    70.0    427\n",
      "14       15    O     79.0   90.0   79.0     89.0    70.0    407\n",
      "15       16    P     79.0   90.0   79.0     89.0    70.0    407\n",
      "16       17    Q     79.0   90.0   79.0     89.0    70.0    407\n",
      "17       18    R     79.0   90.0   79.0     89.0    70.0    407\n",
      "18       19    S     79.0   90.0   79.0     89.0    70.0    407\n",
      "19       20    T     79.0   90.0   79.0     89.0    70.0    407\n"
     ]
    }
   ],
   "source": [
    "import pandas as pd\n",
    "pd.set_option('display.max_columns',10)\n",
    "print(\"Original data:\\n\")\n",
    "a=pd.read_excel(\"/Users/student/Downloads/Marks.xlsx\")\n",
    "print(a)"
   ]
  },
  {
   "cell_type": "code",
   "execution_count": 2,
   "id": "e0b40c1a",
   "metadata": {},
   "outputs": [],
   "source": [
    "f=a['Name'].str.strip()\n",
    "f.to_excel(\"/Users/student/Downloads/Name.xlsx\")"
   ]
  },
  {
   "cell_type": "code",
   "execution_count": 3,
   "id": "9388811d",
   "metadata": {},
   "outputs": [
    {
     "name": "stdout",
     "output_type": "stream",
     "text": [
      "0     A\n",
      "1     B\n",
      "2     C\n",
      "3     D\n",
      "4     E\n",
      "5     F\n",
      "6     G\n",
      "7     H\n",
      "8     I\n",
      "9     J\n",
      "10    K\n",
      "11    L\n",
      "12    M\n",
      "13    N\n",
      "14    O\n",
      "15    P\n",
      "16    Q\n",
      "17    R\n",
      "18    S\n",
      "19    T\n",
      "Name: Name, dtype: object\n"
     ]
    }
   ],
   "source": [
    "print(f)"
   ]
  },
  {
   "cell_type": "code",
   "execution_count": 6,
   "id": "edcbbf5c",
   "metadata": {},
   "outputs": [
    {
     "name": "stdout",
     "output_type": "stream",
     "text": [
      "\n",
      "Replace Value:\n",
      "\n",
      "    Roll no Name  English  Tamil  Maths  Science  Social  Total\n",
      "0         1    A     90.0   90.0   99.0    100.0    89.0    468\n",
      "1         2    B     99.0   90.0   79.0     89.0    70.0    427\n",
      "2         3    C     89.0   90.0   79.0     89.0    70.0    417\n",
      "3         4    D     79.0   90.0   79.0     89.0    70.0    407\n",
      "4         5    E     88.0   90.0   79.0     89.0    70.0    416\n",
      "5         6    F     90.0   90.0   79.0     89.0    70.0    418\n",
      "6         7    G     98.0   90.0   79.0     89.0    70.0    426\n",
      "7         8    H     98.0   90.0   79.0     89.0    70.0    426\n",
      "8         9    I     99.0   90.0   79.0     89.0    70.0    427\n",
      "9        10    J     79.0   90.0   79.0     89.0    70.0    407\n",
      "10       11    K     80.0   90.0   79.0     89.0    70.0    408\n",
      "11       12    L     80.0   90.0   79.0     89.0    70.0      0\n",
      "12       13    M     88.0   90.0   79.0     89.0    70.0    416\n",
      "13       14    N     99.0   90.0   79.0     89.0    70.0    427\n",
      "14       15    O     79.0   90.0   79.0     89.0    70.0    407\n",
      "15       16    P     79.0   90.0   79.0     89.0    70.0    407\n",
      "16       17    Q     79.0   90.0   79.0     89.0    70.0    407\n",
      "17       18    R     79.0   90.0   79.0     89.0    70.0    407\n",
      "18       19    S     79.0   90.0   79.0     89.0    70.0    407\n",
      "19       20    T     79.0   90.0   79.0     89.0    70.0    407\n"
     ]
    }
   ],
   "source": [
    "print(\"\\nReplace Value:\\n\")\n",
    "k=a.fillna(method='pad')\n",
    "print(k)\n",
    "#print(\"\\nUpdated list:\\n\")\n",
    "k.to_excel(\"Updated.xlsx\")"
   ]
  },
  {
   "cell_type": "code",
   "execution_count": 9,
   "id": "b3f5f4b7",
   "metadata": {},
   "outputs": [
    {
     "name": "stdout",
     "output_type": "stream",
     "text": [
      "\n",
      "Drop one particular column and its values:\n",
      "\n",
      "    Roll no Name  English  Tamil  Maths  Science  Total\n",
      "0         1    A     90.0   90.0   99.0    100.0    468\n",
      "1         2    B     99.0   90.0   79.0     89.0    427\n",
      "2         3    C     89.0   90.0   79.0     89.0    417\n",
      "3         4    D     79.0   90.0   79.0     89.0    407\n",
      "4         5    E     88.0   90.0   79.0     89.0    416\n",
      "5         6    F     90.0   90.0   79.0     89.0    418\n",
      "6         7    G     98.0   90.0   79.0     89.0    426\n",
      "7         8    H     98.0   90.0   79.0     89.0    426\n",
      "8         9    I     99.0   90.0   79.0     89.0    427\n",
      "9        10    J     79.0   90.0   79.0     89.0    407\n",
      "10       11    K     80.0   90.0   79.0     89.0    408\n",
      "11       12    L     80.0   90.0   79.0     89.0      0\n",
      "12       13    M     88.0   90.0   79.0     89.0    416\n",
      "13       14    N     99.0   90.0   79.0     89.0    427\n",
      "14       15    O     79.0   90.0   79.0     89.0    407\n",
      "15       16    P     79.0   90.0   79.0     89.0    407\n",
      "16       17    Q     79.0   90.0   79.0     89.0    407\n",
      "17       18    R     79.0   90.0   79.0     89.0    407\n",
      "18       19    S     79.0   90.0   79.0     89.0    407\n",
      "19       20    T     79.0   90.0   79.0     89.0    407\n"
     ]
    }
   ],
   "source": [
    "print(\"\\nDrop one particular column and its values:\\n\")\n",
    "k.drop(['Social'],axis=1,inplace=True)\n",
    "k.to_excel(\"Updated.xlsx\")\n",
    "print(k)"
   ]
  },
  {
   "cell_type": "code",
   "execution_count": 11,
   "id": "c4ec8e52",
   "metadata": {},
   "outputs": [
    {
     "name": "stdout",
     "output_type": "stream",
     "text": [
      "\n",
      "Drop NaN rows:\n",
      "\n",
      "    Roll no Name  English  Tamil  Maths  Science  Social  Total\n",
      "0         1    A     90.0   90.0   99.0    100.0    89.0    468\n",
      "1         2    B     99.0   90.0   79.0     89.0    70.0    427\n",
      "2         3    C     89.0   90.0   79.0     89.0    70.0    417\n",
      "3         4    D     79.0   90.0   79.0     89.0    70.0    407\n",
      "4         5    E     88.0   90.0   79.0     89.0    70.0    416\n",
      "5         6    F     90.0   90.0   79.0     89.0    70.0    418\n",
      "6         7    G     98.0   90.0   79.0     89.0    70.0    426\n",
      "7         8    H     98.0   90.0   79.0     89.0    70.0    426\n",
      "8         9    I     99.0   90.0   79.0     89.0    70.0    427\n",
      "9        10    J     79.0   90.0   79.0     89.0    70.0    407\n",
      "10       11    K     80.0   90.0   79.0     89.0    70.0    408\n",
      "11       12    L      NaN    NaN    NaN      NaN     NaN      0\n",
      "12       13    M     88.0   90.0   79.0     89.0    70.0    416\n",
      "13       14    N     99.0   90.0   79.0     89.0    70.0    427\n",
      "14       15    O     79.0   90.0   79.0     89.0    70.0    407\n",
      "15       16    P     79.0   90.0   79.0     89.0    70.0    407\n",
      "16       17    Q     79.0   90.0   79.0     89.0    70.0    407\n",
      "17       18    R     79.0   90.0   79.0     89.0    70.0    407\n",
      "18       19    S     79.0   90.0   79.0     89.0    70.0    407\n",
      "19       20    T     79.0   90.0   79.0     89.0    70.0    407\n",
      "\n",
      "Updated list:\n",
      "\n",
      "    Roll no Name  English  Tamil  Maths  Science  Social  Total\n",
      "0         1    A     90.0   90.0   99.0    100.0    89.0    468\n",
      "1         2    B     99.0   90.0   79.0     89.0    70.0    427\n",
      "2         3    C     89.0   90.0   79.0     89.0    70.0    417\n",
      "3         4    D     79.0   90.0   79.0     89.0    70.0    407\n",
      "4         5    E     88.0   90.0   79.0     89.0    70.0    416\n",
      "5         6    F     90.0   90.0   79.0     89.0    70.0    418\n",
      "6         7    G     98.0   90.0   79.0     89.0    70.0    426\n",
      "7         8    H     98.0   90.0   79.0     89.0    70.0    426\n",
      "8         9    I     99.0   90.0   79.0     89.0    70.0    427\n",
      "9        10    J     79.0   90.0   79.0     89.0    70.0    407\n",
      "10       11    K     80.0   90.0   79.0     89.0    70.0    408\n",
      "12       13    M     88.0   90.0   79.0     89.0    70.0    416\n",
      "13       14    N     99.0   90.0   79.0     89.0    70.0    427\n",
      "14       15    O     79.0   90.0   79.0     89.0    70.0    407\n",
      "15       16    P     79.0   90.0   79.0     89.0    70.0    407\n",
      "16       17    Q     79.0   90.0   79.0     89.0    70.0    407\n",
      "17       18    R     79.0   90.0   79.0     89.0    70.0    407\n",
      "18       19    S     79.0   90.0   79.0     89.0    70.0    407\n",
      "19       20    T     79.0   90.0   79.0     89.0    70.0    407\n"
     ]
    }
   ],
   "source": [
    "print(\"\\nDrop NaN rows:\\n\")\n",
    "q=pd.read_excel(\"/Users/student/Downloads/Marks.xlsx\")\n",
    "print(q)\n",
    "x=q.dropna()\n",
    "print(\"\\nUpdated list:\\n\")\n",
    "x.to_excel(\"/Users/student/Downloads/Marks.xlsx\")\n",
    "print(x)"
   ]
  },
  {
   "cell_type": "code",
   "execution_count": 2,
   "id": "1d01d498",
   "metadata": {},
   "outputs": [
    {
     "name": "stdout",
     "output_type": "stream",
     "text": [
      "\n",
      "Replace values:\n",
      "\n",
      "Original data:\n",
      "\n",
      "    Unnamed: 0  Roll no Name  English  Tamil  Maths  Science  Social  Total\n",
      "0            0        1    A       90     90     99      100      89    468\n",
      "1            1        2    B       99     90     79       89      70    427\n",
      "2            2        3    C       89     90     79       89      70    417\n",
      "3            3        4    D       79     90     79       89      70    407\n",
      "4            4        5    E       88     90     79       89      70    416\n",
      "5            5        6    F       90     90     79       89      70    418\n",
      "6            6        7    G       98     90     79       89      70    426\n",
      "7            7        8    H       98     90     79       89      70    426\n",
      "8            8        9    I       99     90     79       89      70    427\n",
      "9            9       10    J       79     90     79       89      70    407\n",
      "10          10       11    K       80     90     79       89      70    408\n",
      "11          12       13    M       88     90     79       89      70    416\n",
      "12          13       14    N       99     90     79       89      70    427\n",
      "13          14       15    O       79     90     79       89      70    407\n",
      "14          15       16    P       79     90     79       89      70    407\n",
      "15          16       17    Q       79     90     79       89      70    407\n",
      "16          17       18    R       79     90     79       89      70    407\n",
      "17          18       19    S       79     90     79       89      70    407\n",
      "18          19       20    T       79     90     79       89      70    407\n",
      "\n",
      "Replace dataset:\n",
      "\n",
      "    Unnamed: 0  Roll no Name  English  Tamil  Maths  Science  Social  Total\n",
      "0            0        1    A       90     90     99      100      88    468\n",
      "1            1        2    B       99     90     79       88      70    427\n",
      "2            2        3    C       88     90     79       88      70    417\n",
      "3            3        4    D       79     90     79       88      70    407\n",
      "4            4        5    E       88     90     79       88      70    416\n",
      "5            5        6    F       90     90     79       88      70    418\n",
      "6            6        7    G       98     90     79       88      70    426\n",
      "7            7        8    H       98     90     79       88      70    426\n",
      "8            8        9    I       99     90     79       88      70    427\n",
      "9            9       10    J       79     90     79       88      70    407\n",
      "10          10       11    K       80     90     79       88      70    408\n",
      "11          12       13    M       88     90     79       88      70    416\n",
      "12          13       14    N       99     90     79       88      70    427\n",
      "13          14       15    O       79     90     79       88      70    407\n",
      "14          15       16    P       79     90     79       88      70    407\n",
      "15          16       17    Q       79     90     79       88      70    407\n",
      "16          17       18    R       79     90     79       88      70    407\n",
      "17          18       19    S       79     90     79       88      70    407\n",
      "18          19       20    T       79     90     79       88      70    407\n"
     ]
    }
   ],
   "source": [
    "import pandas as pd\n",
    "print(\"\\nReplace values:\\n\")\n",
    "n=pd.read_excel(\"/Users/student/Downloads/Marks.xlsx\")\n",
    "print(\"Original data:\\n\")\n",
    "print(n)\n",
    "y=n.replace({89:88})\n",
    "print(\"\\nReplace dataset:\\n\")\n",
    "print(y)\n",
    "y.to_excel(\"Updated.xlsx\")"
   ]
  },
  {
   "cell_type": "code",
   "execution_count": 7,
   "id": "d0070a18",
   "metadata": {},
   "outputs": [
    {
     "name": "stdout",
     "output_type": "stream",
     "text": [
      "    Unnamed: 0  Roll no Name  English  Tamil  Maths  Science  Social  Total\n",
      "0            0        1    A       90     90     99      100      89    468\n",
      "1            1        2    B       99     90     79       89      70    427\n",
      "2            2        3    C       89     90     79       89      70    417\n",
      "3            3        4    D       79     90     79       89      70    407\n",
      "4            4        5    E       88     90     79       89      70    416\n",
      "5            5        6    F       90     90     79       89      70    418\n",
      "6            6        7    G       98     90     79       89      70    426\n",
      "7            7        8    H       98     90     79       89      70    426\n",
      "8            8        9    I       99     90     79       89      70    427\n",
      "9            9       10    J       79     90     79       89      70    407\n",
      "10          10       11    K       80     90     79       89      70    408\n",
      "11          12       13    M       88     90     79       89      70    416\n",
      "12          13       14    N       99     90     79       89      70    427\n",
      "13          14       15    O       79     90     79       89      70    407\n",
      "14          15       16    P       79     90     79       89      70    407\n",
      "15          16       17    Q       79     90     79       89      70    407\n",
      "16          17       18    R       79     90     79       89      70    407\n",
      "17          18       19    S       79     90     79       89      70    407\n",
      "18          19       20    T       79     90     79       89      70    407\n",
      "\n",
      "Extracting isin() function:\n",
      "\n",
      "    Unnamed: 0  Roll no Name  English  Tamil  Maths  Science  Social  Total\n",
      "4            4        5    E       88     90     79       89      70    416\n",
      "11          12       13    M       88     90     79       89      70    416\n"
     ]
    }
   ],
   "source": [
    "print(n)\n",
    "print(\"\\nExtracting isin() function:\\n\")\n",
    "new=n['English'].isin([88])\n",
    "print(n[new])"
   ]
  },
  {
   "cell_type": "code",
   "execution_count": null,
   "id": "383ba25e",
   "metadata": {},
   "outputs": [],
   "source": []
  }
 ],
 "metadata": {
  "kernelspec": {
   "display_name": "Python 3 (ipykernel)",
   "language": "python",
   "name": "python3"
  },
  "language_info": {
   "codemirror_mode": {
    "name": "ipython",
    "version": 3
   },
   "file_extension": ".py",
   "mimetype": "text/x-python",
   "name": "python",
   "nbconvert_exporter": "python",
   "pygments_lexer": "ipython3",
   "version": "3.11.5"
  }
 },
 "nbformat": 4,
 "nbformat_minor": 5
}

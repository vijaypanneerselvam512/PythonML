{
 "cells": [
  {
   "cell_type": "code",
   "execution_count": 84,
   "id": "c9c7a165-ffca-4a66-86b9-1fa5ea15c1d0",
   "metadata": {},
   "outputs": [
    {
     "name": "stdout",
     "output_type": "stream",
     "text": [
      "Empty DataFrame\n",
      "Columns: []\n",
      "Index: []\n"
     ]
    }
   ],
   "source": [
    "import pandas as pd\n",
    "df=pd.DataFrame()\n",
    "print(df)"
   ]
  },
  {
   "cell_type": "code",
   "execution_count": 85,
   "id": "1008c0ce-8947-448e-a6fa-9a2bc710074e",
   "metadata": {},
   "outputs": [
    {
     "name": "stdout",
     "output_type": "stream",
     "text": [
      "\n",
      " series to datafunction \n",
      "\n",
      "      Emp  ID\n",
      "0     Uma  10\n",
      "1    siva  20\n",
      "2  sindhu  30\n",
      "3    Ravi  40\n"
     ]
    }
   ],
   "source": [
    "emp=pd.Series(['Uma','siva','sindhu','Ravi'])\n",
    "id=pd.Series([10,20,30,40])\n",
    "frame={'Emp':emp,'ID':id}\n",
    "result=pd.DataFrame(frame)\n",
    "print(\"\\n series to datafunction \\n\")\n",
    "print(result)"
   ]
  },
  {
   "cell_type": "code",
   "execution_count": 86,
   "id": "0af3d4bb-657e-468a-b748-7a5ff514e7c6",
   "metadata": {},
   "outputs": [
    {
     "name": "stdout",
     "output_type": "stream",
     "text": [
      "      Emp  ID  Age\n",
      "0     Uma  10   20\n",
      "1    siva  20   30\n",
      "2  sindhu  30   40\n",
      "3    Ravi  40   50\n"
     ]
    }
   ],
   "source": [
    "result['Age']=pd.Series([20,30,40,50])\n",
    "print(result)"
   ]
  },
  {
   "cell_type": "code",
   "execution_count": 87,
   "id": "3193a1a7-faad-4397-9fc0-ab5d793316e0",
   "metadata": {},
   "outputs": [
    {
     "name": "stdout",
     "output_type": "stream",
     "text": [
      "      Emp  ID\n",
      "0     Uma  10\n",
      "1    siva  20\n",
      "2  sindhu  30\n",
      "3    Ravi  40\n"
     ]
    }
   ],
   "source": [
    "del result['Age']\n",
    "print(result)"
   ]
  },
  {
   "cell_type": "code",
   "execution_count": 88,
   "id": "780c4f69-33bc-4c7f-aaad-a6bdca66b788",
   "metadata": {},
   "outputs": [
    {
     "name": "stdout",
     "output_type": "stream",
     "text": [
      "Extracting the second row\n",
      "\n",
      "Emp    siva\n",
      "ID       20\n",
      "Name: 1, dtype: object\n"
     ]
    }
   ],
   "source": [
    "print(\"Extracting the second row\\n\")\n",
    "print(result.loc[1])"
   ]
  },
  {
   "cell_type": "code",
   "execution_count": 89,
   "id": "9565bad6-d71f-4b91-ab98-99ceaf554a9e",
   "metadata": {},
   "outputs": [
    {
     "name": "stdout",
     "output_type": "stream",
     "text": [
      "slice rows\n",
      "\n",
      "      Emp  ID\n",
      "1    siva  20\n",
      "2  sindhu  30\n"
     ]
    }
   ],
   "source": [
    "print(\"slice rows\\n\")\n",
    "print(result[1:3])"
   ]
  },
  {
   "cell_type": "code",
   "execution_count": 116,
   "id": "3f39f14b-48f0-4df0-b740-1113cd6c0423",
   "metadata": {},
   "outputs": [
    {
     "name": "stdout",
     "output_type": "stream",
     "text": [
      "      Emp  ID\n",
      "0     Uma  10\n",
      "1    siva  20\n",
      "2  sindhu  30\n",
      "3    Ravi  40\n",
      "0    ammu  20\n",
      "1   aishu  19\n"
     ]
    }
   ],
   "source": [
    "a2=pd.DataFrame([['ammu',20],['aishu',19]],columns=['Emp','ID'])\n",
    "print(pd.concat([result,a2]))"
   ]
  },
  {
   "cell_type": "code",
   "execution_count": 94,
   "id": "08a2676b-d3bc-43b6-9ff7-e836fed38ba8",
   "metadata": {},
   "outputs": [
    {
     "name": "stdout",
     "output_type": "stream",
     "text": [
      "    Emp  ID\n",
      "0   Uma  10\n",
      "1  siva  20\n",
      "3  Ravi  40\n"
     ]
    }
   ],
   "source": [
    "print(result.drop(2))"
   ]
  },
  {
   "cell_type": "code",
   "execution_count": null,
   "id": "35c836f3-751a-400b-82c0-23e0e74eae92",
   "metadata": {},
   "outputs": [],
   "source": []
  }
 ],
 "metadata": {
  "kernelspec": {
   "display_name": "Python 3 (ipykernel)",
   "language": "python",
   "name": "python3"
  },
  "language_info": {
   "codemirror_mode": {
    "name": "ipython",
    "version": 3
   },
   "file_extension": ".py",
   "mimetype": "text/x-python",
   "name": "python",
   "nbconvert_exporter": "python",
   "pygments_lexer": "ipython3",
   "version": "3.11.11"
  }
 },
 "nbformat": 4,
 "nbformat_minor": 5
}

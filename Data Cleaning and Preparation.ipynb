{
 "cells": [
  {
   "cell_type": "code",
   "execution_count": 3,
   "id": "24b167bb",
   "metadata": {},
   "outputs": [
    {
     "name": "stdout",
     "output_type": "stream",
     "text": [
      "Original Dataframe:\n",
      "         One       Two     Three\n",
      "a -1.179061  0.425388 -0.114048\n",
      "b  0.964816  0.046510  0.206405\n",
      "c       NaN       NaN       NaN\n",
      "d -0.705390  1.346414 -0.718920\n",
      "e       NaN       NaN       NaN\n",
      "f  0.470078 -1.261629  0.914977\n",
      "\n",
      "\n",
      "Dropped DataFrame:\n",
      "         One       Two     Three\n",
      "a -1.179061  0.425388 -0.114048\n",
      "b  0.964816  0.046510  0.206405\n",
      "d -0.705390  1.346414 -0.718920\n",
      "f  0.470078 -1.261629  0.914977\n"
     ]
    }
   ],
   "source": [
    "import pandas as pd\n",
    "import numpy as np\n",
    "a=pd.DataFrame(np.random.randn(4,3),index=['a','b','d','f'],columns=['One','Two','Three'])\n",
    "a=a.reindex(['a','b','c','d','e','f'])\n",
    "print(\"Original Dataframe:\\n\",a)\n",
    "print(\"\\n\")\n",
    "print(\"Dropped DataFrame:\\n\",a.dropna())"
   ]
  },
  {
   "cell_type": "code",
   "execution_count": 4,
   "id": "87e314da",
   "metadata": {},
   "outputs": [
    {
     "name": "stdout",
     "output_type": "stream",
     "text": [
      "Original Dataframe:\n",
      "         One       Two     Three\n",
      "a  0.768553  0.098252  0.406664\n",
      "b -1.979021 -0.635870 -0.433728\n",
      "c       NaN       NaN       NaN\n",
      "d -0.013781 -2.425019  0.353654\n",
      "e       NaN       NaN       NaN\n",
      "f -0.510388 -0.355662 -0.414127\n",
      "\n",
      "\n",
      "Nan replaced with '1':\n",
      "\n",
      "        One       Two     Three\n",
      "a  0.768553  0.098252  0.406664\n",
      "b -1.979021 -0.635870 -0.433728\n",
      "c  1.000000  1.000000  1.000000\n",
      "d -0.013781 -2.425019  0.353654\n",
      "e  1.000000  1.000000  1.000000\n",
      "f -0.510388 -0.355662 -0.414127\n"
     ]
    }
   ],
   "source": [
    "import pandas as pd\n",
    "import numpy as np\n",
    "a=pd.DataFrame(np.random.randn(4,3),index=['a','b','d','f'],columns=['One','Two','Three'])\n",
    "a=a.reindex(['a','b','c','d','e','f'])\n",
    "print(\"Original Dataframe:\\n\",a)\n",
    "print(\"\\n\")\n",
    "print(\"Nan replaced with '1':\\n\")\n",
    "print(a.fillna(1))"
   ]
  },
  {
   "cell_type": "code",
   "execution_count": 5,
   "id": "40e4eccb",
   "metadata": {},
   "outputs": [
    {
     "name": "stdout",
     "output_type": "stream",
     "text": [
      "Original Dataframe:\n",
      "         One       Two     Three\n",
      "a  2.609439  1.014908  1.052612\n",
      "b  0.337855  0.109819 -0.000040\n",
      "c       NaN       NaN       NaN\n",
      "d  0.222145 -0.330914 -0.193801\n",
      "e       NaN       NaN       NaN\n",
      "f  0.423223  1.463535  0.229052\n",
      "\n",
      "NaN with true fill:\n",
      "\n",
      "a    False\n",
      "b    False\n",
      "c     True\n",
      "d    False\n",
      "e     True\n",
      "f    False\n",
      "Name: One, dtype: bool\n"
     ]
    }
   ],
   "source": [
    "import pandas as pd\n",
    "import numpy as np\n",
    "a=pd.DataFrame(np.random.randn(4,3),index=['a','b','d','f'],columns=['One','Two','Three'])\n",
    "a=a.reindex(['a','b','c','d','e','f'])\n",
    "print(\"Original Dataframe:\\n\",a)\n",
    "print(\"\\nNaN with true fill:\\n\")\n",
    "print(a['One'].isnull())"
   ]
  },
  {
   "cell_type": "code",
   "execution_count": 6,
   "id": "58e246b7",
   "metadata": {},
   "outputs": [
    {
     "name": "stdout",
     "output_type": "stream",
     "text": [
      "Original Dataframe:\n",
      "         One       Two     Three\n",
      "a -0.034135  0.208485  0.697650\n",
      "b -1.172502  1.579669  0.341513\n",
      "c       NaN       NaN       NaN\n",
      "d -0.796421 -1.559678 -1.703536\n",
      "e       NaN       NaN       NaN\n",
      "f -0.306517  0.290655 -0.868410\n",
      "\n",
      "NaN filled with background values:\n",
      "\n",
      "        One       Two     Three\n",
      "a -0.034135  0.208485  0.697650\n",
      "b -1.172502  1.579669  0.341513\n",
      "c -0.796421 -1.559678 -1.703536\n",
      "d -0.796421 -1.559678 -1.703536\n",
      "e -0.306517  0.290655 -0.868410\n",
      "f -0.306517  0.290655 -0.868410\n"
     ]
    }
   ],
   "source": [
    "import pandas as pd\n",
    "import numpy as np\n",
    "a=pd.DataFrame(np.random.randn(4,3),index=['a','b','d','f'],columns=['One','Two','Three'])\n",
    "a=a.reindex(['a','b','c','d','e','f'])\n",
    "print(\"Original Dataframe:\\n\",a)\n",
    "print(\"\\nNaN filled with background values:\\n\")\n",
    "print(a.fillna(method='bfill'))"
   ]
  },
  {
   "cell_type": "code",
   "execution_count": 8,
   "id": "3d102bed",
   "metadata": {},
   "outputs": [
    {
     "name": "stdout",
     "output_type": "stream",
     "text": [
      "Original Dataframe:\n",
      "         One       Two     Three\n",
      "a -1.496771  1.029093  0.770448\n",
      "b -0.325798  0.766839  0.312233\n",
      "c       NaN       NaN       NaN\n",
      "d  0.899719  0.911074 -0.973045\n",
      "e       NaN       NaN       NaN\n",
      "f  0.297678 -0.992858 -1.503191\n",
      "\n",
      "NaN filled with forward values:\n",
      "\n",
      "        One       Two     Three\n",
      "a -1.496771  1.029093  0.770448\n",
      "b -0.325798  0.766839  0.312233\n",
      "c -0.325798  0.766839  0.312233\n",
      "d  0.899719  0.911074 -0.973045\n",
      "e  0.899719  0.911074 -0.973045\n",
      "f  0.297678 -0.992858 -1.503191\n"
     ]
    }
   ],
   "source": [
    "import pandas as pd\n",
    "import numpy as np\n",
    "a=pd.DataFrame(np.random.randn(4,3),index=['a','b','d','f'],columns=['One','Two','Three'])\n",
    "a=a.reindex(['a','b','c','d','e','f'])\n",
    "print(\"Original Dataframe:\\n\",a)\n",
    "print(\"\\nNaN filled with forward values:\\n\")\n",
    "print(a.fillna(method='ffill'))"
   ]
  },
  {
   "cell_type": "code",
   "execution_count": 11,
   "id": "a60ccb6e",
   "metadata": {},
   "outputs": [
    {
     "name": "stdout",
     "output_type": "stream",
     "text": [
      "Original Dataframe:\n",
      "    One  Two\n",
      "0   10   60\n",
      "1   20   70\n",
      "2   80   80\n",
      "3   40    0\n",
      "4   50   10\n",
      "\n",
      "Dataframe with replaced values:\n",
      "\n",
      "   One  Two\n",
      "0    5   60\n",
      "1   20   70\n",
      "2   30   30\n",
      "3   40    0\n",
      "4   50    5\n"
     ]
    }
   ],
   "source": [
    "import pandas as pd\n",
    "import numpy as np\n",
    "a=pd.DataFrame({'One':[10,20,80,40,50],'Two':[60,70,80,0,10]})\n",
    "print(\"Original Dataframe:\\n\",a)\n",
    "print(\"\\nDataframe with replaced values:\\n\")\n",
    "print(a.replace({10:5,80:30}))"
   ]
  },
  {
   "cell_type": "code",
   "execution_count": null,
   "id": "af23c295",
   "metadata": {},
   "outputs": [],
   "source": []
  }
 ],
 "metadata": {
  "kernelspec": {
   "display_name": "Python 3 (ipykernel)",
   "language": "python",
   "name": "python3"
  },
  "language_info": {
   "codemirror_mode": {
    "name": "ipython",
    "version": 3
   },
   "file_extension": ".py",
   "mimetype": "text/x-python",
   "name": "python",
   "nbconvert_exporter": "python",
   "pygments_lexer": "ipython3",
   "version": "3.11.5"
  }
 },
 "nbformat": 4,
 "nbformat_minor": 5
}

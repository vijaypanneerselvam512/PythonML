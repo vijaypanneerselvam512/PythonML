{
 "cells": [
  {
   "cell_type": "code",
   "execution_count": 5,
   "id": "5a9286e9",
   "metadata": {},
   "outputs": [
    {
     "name": "stdout",
     "output_type": "stream",
     "text": [
      "one dimensional array : \n",
      "  [1 2 3]\n"
     ]
    }
   ],
   "source": [
    "import numpy as np\n",
    "a=np.array([1,2,3])\n",
    "print(\"one dimensional array : \\n \",a)"
   ]
  },
  {
   "cell_type": "code",
   "execution_count": 4,
   "id": "48fe13dd",
   "metadata": {},
   "outputs": [
    {
     "name": "stdout",
     "output_type": "stream",
     "text": [
      "two dimensional array :\n",
      "  [[1 2 3]\n",
      " [4 5 6]]\n"
     ]
    }
   ],
   "source": [
    "import numpy as np\n",
    "a=np.array([[1,2,3],[4,5,6]])\n",
    "print(\"two dimensional array : \\n \",a)"
   ]
  },
  {
   "cell_type": "code",
   "execution_count": 6,
   "id": "29e6146b",
   "metadata": {},
   "outputs": [
    {
     "name": "stdout",
     "output_type": "stream",
     "text": [
      "three dimensional array : \n",
      "  [[1 2 3]\n",
      " [4 5 6]\n",
      " [7 8 9]]\n"
     ]
    }
   ],
   "source": [
    "import numpy as np\n",
    "a=np.array([[1,2,3],[4,5,6],[7,8,9]])\n",
    "print(\"three dimensional array : \\n \",a)"
   ]
  },
  {
   "cell_type": "code",
   "execution_count": 9,
   "id": "e9fa0e66",
   "metadata": {},
   "outputs": [
    {
     "name": "stdout",
     "output_type": "stream",
     "text": [
      "all zeros array : \n",
      "  [[0. 0. 0.]\n",
      " [0. 0. 0.]\n",
      " [0. 0. 0.]]\n"
     ]
    }
   ],
   "source": [
    "import numpy as np\n",
    "a=np.zeros((3,3))\n",
    "print(\"all zeros array : \\n \",a)"
   ]
  },
  {
   "cell_type": "code",
   "execution_count": 11,
   "id": "63269fea",
   "metadata": {},
   "outputs": [
    {
     "name": "stdout",
     "output_type": "stream",
     "text": [
      "random value array : \n",
      "  [[0.74159793 0.26172918 0.39660824]\n",
      " [0.13453893 0.64124565 0.3947211 ]\n",
      " [0.02739288 0.18326868 0.12526122]]\n"
     ]
    }
   ],
   "source": [
    "import numpy as np\n",
    "a=np.random.random((3,3))\n",
    "print(\"random value array : \\n \",a)"
   ]
  },
  {
   "cell_type": "code",
   "execution_count": 12,
   "id": "932387f5",
   "metadata": {},
   "outputs": [
    {
     "name": "stdout",
     "output_type": "stream",
     "text": [
      "sequence array : \n",
      "  [0 2 4 6 8]\n"
     ]
    }
   ],
   "source": [
    "import numpy as np\n",
    "a=np.arange(0,10,2)\n",
    "print(\"sequence array : \\n \",a)"
   ]
  },
  {
   "cell_type": "code",
   "execution_count": 15,
   "id": "ee33afe9",
   "metadata": {},
   "outputs": [
    {
     "name": "stdout",
     "output_type": "stream",
     "text": [
      "original array : \n",
      "  [[ 1  2  3]\n",
      " [ 4  5  6]\n",
      " [ 7  8  9]\n",
      " [10 11 12]]\n",
      "reshaped array : \n",
      "  [[ 1  2  3  4]\n",
      " [ 5  6  7  8]\n",
      " [ 9 10 11 12]]\n"
     ]
    }
   ],
   "source": [
    "import numpy as np\n",
    "a=np.array([[1,2,3],[4,5,6],[7,8,9],[10,11,12]])\n",
    "b=a.reshape(3,4)\n",
    "print(\"original array : \\n \",a)\n",
    "print(\"reshaped array : \\n \",b)"
   ]
  },
  {
   "cell_type": "code",
   "execution_count": 16,
   "id": "c1134fe8",
   "metadata": {},
   "outputs": [
    {
     "name": "stdout",
     "output_type": "stream",
     "text": [
      "original array : \n",
      "  [[ 1  2  3]\n",
      " [ 4  5  6]\n",
      " [ 7  8  9]\n",
      " [10 11 12]]\n",
      "flattened array : \n",
      "  [ 1  2  3  4  5  6  7  8  9 10 11 12]\n"
     ]
    }
   ],
   "source": [
    "import numpy as np\n",
    "a=np.array([[1,2,3],[4,5,6],[7,8,9],[10,11,12]])\n",
    "b=a.flatten()\n",
    "print(\"original array : \\n \",a)\n",
    "print(\"flattened array : \\n \",b)"
   ]
  },
  {
   "cell_type": "code",
   "execution_count": 27,
   "id": "74ee71e4",
   "metadata": {},
   "outputs": [
    {
     "name": "stdout",
     "output_type": "stream",
     "text": [
      " shape of the array : (4, 3)\n"
     ]
    }
   ],
   "source": [
    "import numpy as np\n",
    "a=np.array([[1,2,3],[4,5,6],[7,8,9],[10,11,12]])\n",
    "print(\" shape of the array :\",a.shape)"
   ]
  },
  {
   "cell_type": "code",
   "execution_count": 28,
   "id": "3ad6e163",
   "metadata": {},
   "outputs": [
    {
     "name": "stdout",
     "output_type": "stream",
     "text": [
      "array type : int64\n"
     ]
    }
   ],
   "source": [
    "import numpy as np\n",
    "a=np.array([[1,2,3],[4,5,6],[7,8,9],[10,11,12]])\n",
    "print(\"array type :\",a.dtype)"
   ]
  },
  {
   "cell_type": "code",
   "execution_count": 29,
   "id": "fdffd28a",
   "metadata": {},
   "outputs": [
    {
     "name": "stdout",
     "output_type": "stream",
     "text": [
      " shape of the array : 4\n"
     ]
    }
   ],
   "source": [
    "import numpy as np\n",
    "a=np.array([[1,2,3],[4,5,6],[7,8,9],[10,11,12]])\n",
    "size=len(a)\n",
    "print(\" size of the array :\",size)"
   ]
  },
  {
   "cell_type": "code",
   "execution_count": 1,
   "id": "7d9b22a9",
   "metadata": {},
   "outputs": [
    {
     "name": "stdout",
     "output_type": "stream",
     "text": [
      "[1. 2. 3.]\n",
      "float64\n"
     ]
    }
   ],
   "source": [
    "import numpy as np\n",
    "a=[1,2,3]\n",
    "a=np.array(a)\n",
    "newtype=a.astype('float64')\n",
    "print(newtype)\n",
    "print(newtype.dtype)"
   ]
  },
  {
   "cell_type": "code",
   "execution_count": null,
   "id": "8b4b457f",
   "metadata": {},
   "outputs": [],
   "source": []
  }
 ],
 "metadata": {
  "kernelspec": {
   "display_name": "Python 3 (ipykernel)",
   "language": "python",
   "name": "python3"
  },
  "language_info": {
   "codemirror_mode": {
    "name": "ipython",
    "version": 3
   },
   "file_extension": ".py",
   "mimetype": "text/x-python",
   "name": "python",
   "nbconvert_exporter": "python",
   "pygments_lexer": "ipython3",
   "version": "3.11.5"
  }
 },
 "nbformat": 4,
 "nbformat_minor": 5
}

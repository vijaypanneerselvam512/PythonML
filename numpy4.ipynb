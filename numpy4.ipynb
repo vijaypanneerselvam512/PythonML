{
  "metadata": {
    "kernelspec": {
      "name": "python",
      "display_name": "Python (Pyodide)",
      "language": "python"
    },
    "language_info": {
      "codemirror_mode": {
        "name": "python",
        "version": 3
      },
      "file_extension": ".py",
      "mimetype": "text/x-python",
      "name": "python",
      "nbconvert_exporter": "python",
      "pygments_lexer": "ipython3",
      "version": "3.8"
    }
  },
  "nbformat_minor": 5,
  "nbformat": 4,
  "cells": [
    {
      "id": "db8d0c42-6fc3-4028-a9df-375a204477f1",
      "cell_type": "code",
      "source": "import numpy as np\narr1=[20,40,50,70,10]\narr2=[6,2,9,7,1]\na=np.array(arr1)\nb=np.array(arr2)\nprint(a)\nprint(b)\nprint(a+b)\nprint(a-b)\nprint(a*b)\nprint(a/b)\nprint(a.dot(b))\nscrl3=3\nprint(\"",
      "metadata": {
        "trusted": true
      },
      "outputs": [],
      "execution_count": null
    },
    {
      "id": "0236c8eb-3a5a-42de-bcc2-429dc7299011",
      "cell_type": "code",
      "source": "import numpy as np\na=np.array([[10,20],[30,40]])\nb=np.array([[3,7],[5,6]])\nprint(a%b)",
      "metadata": {
        "trusted": true
      },
      "outputs": [
        {
          "name": "stdout",
          "output_type": "stream",
          "text": "[[1 6]\n [0 4]]\n"
        }
      ],
      "execution_count": 17
    },
    {
      "id": "6712db78-7119-4c36-aa7d-36a420ce1432",
      "cell_type": "code",
      "source": "import numpy as np\ndef my_func(x,y):\n   if x>y:\n       return x-y\n   else:\n       return x+y\narr1=[10,7,2]\narr2=[6,5,3]\nvectfunc=np.vectorize(my_func)\nprint(\"array1:\",arr1)\nprint(\"array2:\",arr2)\nprint(\"Result:\",vectfunc)",
      "metadata": {
        "trusted": true
      },
      "outputs": [
        {
          "name": "stdout",
          "output_type": "stream",
          "text": "array1: [10, 7, 2]\narray2: [6, 5, 3]\nResult: <numpy.vectorize object at 0x226a2c0>\n"
        }
      ],
      "execution_count": 13
    },
    {
      "id": "bcda8a4d-0bd1-458d-81ed-91773492c82b",
      "cell_type": "code",
      "source": "",
      "metadata": {
        "trusted": true
      },
      "outputs": [],
      "execution_count": null
    },
    {
      "id": "590282a8-af17-40a7-891c-b190f04a7929",
      "cell_type": "code",
      "source": "",
      "metadata": {
        "trusted": true
      },
      "outputs": [],
      "execution_count": null
    },
    {
      "id": "fcfd6c4e-e2da-4b77-b051-5292a2e758ea",
      "cell_type": "code",
      "source": "",
      "metadata": {
        "trusted": true
      },
      "outputs": [],
      "execution_count": null
    }
  ]
}
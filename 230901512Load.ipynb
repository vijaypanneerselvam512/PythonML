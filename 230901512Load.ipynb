{
 "cells": [
  {
   "cell_type": "code",
   "execution_count": 6,
   "id": "c83cef3e-36e9-4c51-9046-4d84372ba6bc",
   "metadata": {},
   "outputs": [
    {
     "name": "stdout",
     "output_type": "stream",
     "text": [
      "    S.No        Name  Age  Gender  Salary Login Time  Bonus           Team\n",
      "0      1       Vijay   21    Male   10000    9:00 AM   2000          Admin\n",
      "1      2    Harshini   19  Female   50000   10:00 AM   1000   Event Manag.\n",
      "2      3  Lakshmanan   20    Male   20000    8:00 AM   3000        Testing\n",
      "3      4     Kishore   20    Male   25000    9:00 AM   2000        Testing\n",
      "4      5       Fahim   20    Male   21000    9:00 AM   1000  Manufacturing\n",
      "..   ...         ...  ...     ...     ...        ...    ...            ...\n",
      "95    96      Mugesh   20    Male   40000    7:00 AM    500  Manufacturing\n",
      "96    97    Sivaguru   20    Male   60000   10:00 AM   1000    Maintenance\n",
      "97    98      Ganesh   20    Male   80000    9:00 AM   2000    Maintenance\n",
      "98    99      Harish   20    Male   90000    8:00 AM   3000            R&D\n",
      "99   100      Sanjay   20    Male   26000   10:00 AM   1000        Finance\n",
      "\n",
      "[100 rows x 8 columns]\n"
     ]
    }
   ],
   "source": [
    "import pandas as pd\n",
    "d=pd.read_csv(\"/Users/student/Downloads/230901512Excel - 1.csv\")\n",
    "print(d)"
   ]
  },
  {
   "cell_type": "code",
   "execution_count": 10,
   "id": "437780dc-66ac-47f7-a420-f766f99e645a",
   "metadata": {},
   "outputs": [
    {
     "name": "stdout",
     "output_type": "stream",
     "text": [
      "columns : Index(['S.No', 'Name', 'Age', 'Gender', 'Salary', 'Login Time', 'Bonus',\n",
      "       'Team'],\n",
      "      dtype='object')\n",
      "(100, 8)\n"
     ]
    }
   ],
   "source": [
    "import pandas as pd\n",
    "df=pd.DataFrame(d)\n",
    "print(\"columns :\",df.columns)\n",
    "print(df.shape)\n"
   ]
  },
  {
   "cell_type": "code",
   "execution_count": 12,
   "id": "1a9f6eed-2728-4abf-9250-e0f71c78cedc",
   "metadata": {},
   "outputs": [
    {
     "name": "stdout",
     "output_type": "stream",
     "text": [
      "Name 0          Vijay\n",
      "1       Harshini\n",
      "2     Lakshmanan\n",
      "3        Kishore\n",
      "4          Fahim\n",
      "         ...    \n",
      "95        Mugesh\n",
      "96      Sivaguru\n",
      "97        Ganesh\n",
      "98        Harish\n",
      "99        Sanjay\n",
      "Name: Name, Length: 100, dtype: object\n"
     ]
    }
   ],
   "source": [
    "import pandas as pd\n",
    "d=pd.read_csv(\"/Users/student/Downloads/230901512Excel - 1.csv\")\n",
    "print(\"Name\",df['Name'])"
   ]
  },
  {
   "cell_type": "code",
   "execution_count": 14,
   "id": "549d87c0-4f6d-4c3e-9e41-aa0411e5b0b4",
   "metadata": {},
   "outputs": [
    {
     "name": "stdout",
     "output_type": "stream",
     "text": [
      "   S.No      Name  Age Gender  Salary Login Time  Bonus           Team\n",
      "5     6    Mugesh   20   Male   40000    7:00 AM    500  Manufacturing\n",
      "6     7  Sivaguru   20   Male   60000   10:00 AM   1000    Maintenance\n",
      "7     8    Ganesh   20   Male   80000    9:00 AM   2000    Maintenance\n",
      "8     9    Harish   20   Male   90000    8:00 AM   3000            R&D\n",
      "9    10    Sanjay   20   Male   26000   10:00 AM   1000        Finance\n"
     ]
    }
   ],
   "source": [
    "print(df[5:10])"
   ]
  },
  {
   "cell_type": "code",
   "execution_count": 16,
   "id": "95c2e3ec-ae4b-4213-aa88-d259881499dd",
   "metadata": {},
   "outputs": [
    {
     "name": "stdout",
     "output_type": "stream",
     "text": [
      " Particular person Data S.No                   3\n",
      "Name          Lakshmanan\n",
      "Age                   20\n",
      "Gender              Male\n",
      "Salary             20000\n",
      "Login Time       8:00 AM\n",
      "Bonus               3000\n",
      "Team             Testing\n",
      "Name: 2, dtype: object\n"
     ]
    }
   ],
   "source": [
    "print(\" Particular person Data\",df.loc[2])"
   ]
  },
  {
   "cell_type": "code",
   "execution_count": 18,
   "id": "72d275df-3c21-4d7c-a823-3865155d67ca",
   "metadata": {},
   "outputs": [
    {
     "name": "stdout",
     "output_type": "stream",
     "text": [
      "    S.No      Name  Age  Gender  Salary Login Time  Bonus          Team\n",
      "1      2  Harshini   19  Female   50000   10:00 AM   1000  Event Manag.\n",
      "10    11  Harshini   19  Female   50000   10:00 AM   1000  Event Manag.\n",
      "19    20  Harshini   19  Female   50000   10:00 AM   1000  Event Manag.\n",
      "28    29  Harshini   19  Female   50000   10:00 AM   1000  Event Manag.\n",
      "37    38  Harshini   19  Female   50000   10:00 AM   1000  Event Manag.\n",
      "46    47  Harshini   19  Female   50000   10:00 AM   1000  Event Manag.\n",
      "55    56  Harshini   19  Female   50000   10:00 AM   1000  Event Manag.\n",
      "64    65  Harshini   19  Female   50000   10:00 AM   1000  Event Manag.\n",
      "73    74  Harshini   19  Female   50000   10:00 AM   1000  Event Manag.\n",
      "82    83  Harshini   19  Female   50000   10:00 AM   1000  Event Manag.\n",
      "91    92  Harshini   19  Female   50000   10:00 AM   1000  Event Manag.\n"
     ]
    }
   ],
   "source": [
    "print(d.loc[d['Salary']==50000])"
   ]
  },
  {
   "cell_type": "code",
   "execution_count": null,
   "id": "e7dc851f-8041-4d29-b0c3-c2de948ba940",
   "metadata": {},
   "outputs": [],
   "source": []
  }
 ],
 "metadata": {
  "kernelspec": {
   "display_name": "Python 3 (ipykernel)",
   "language": "python",
   "name": "python3"
  },
  "language_info": {
   "codemirror_mode": {
    "name": "ipython",
    "version": 3
   },
   "file_extension": ".py",
   "mimetype": "text/x-python",
   "name": "python",
   "nbconvert_exporter": "python",
   "pygments_lexer": "ipython3",
   "version": "3.11.11"
  }
 },
 "nbformat": 4,
 "nbformat_minor": 5
}

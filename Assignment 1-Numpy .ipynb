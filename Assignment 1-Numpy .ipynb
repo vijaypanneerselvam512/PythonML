{
 "cells": [
  {
   "cell_type": "code",
   "execution_count": 3,
   "id": "f54fe077",
   "metadata": {},
   "outputs": [
    {
     "name": "stdout",
     "output_type": "stream",
     "text": [
      "\n",
      "Array with random values:\n",
      " [[0.99445345 0.87326557 0.27356253 0.97625587]\n",
      " [0.52264363 0.78881273 0.58714542 0.94491241]\n",
      " [0.8837431  0.47164486 0.7965497  0.59646432]]\n"
     ]
    }
   ],
   "source": [
    "import numpy as np\n",
    "a=np.random.random((3,4))\n",
    "print(\"\\nArray with random values:\\n\",a)"
   ]
  },
  {
   "cell_type": "code",
   "execution_count": 4,
   "id": "d2a93338",
   "metadata": {},
   "outputs": [
    {
     "name": "stdout",
     "output_type": "stream",
     "text": [
      "\n",
      "Array with zeros:\n",
      " [[0. 0. 0. 0.]\n",
      " [0. 0. 0. 0.]\n",
      " [0. 0. 0. 0.]]\n"
     ]
    }
   ],
   "source": [
    "import numpy as np\n",
    "a=np.zeros((3,4))\n",
    "print(\"\\nArray with zeros:\\n\",a)"
   ]
  },
  {
   "cell_type": "code",
   "execution_count": 5,
   "id": "07079c58",
   "metadata": {},
   "outputs": [
    {
     "name": "stdout",
     "output_type": "stream",
     "text": [
      "\n",
      "Array with sequence:\n",
      " [ 5  7  9 11 13 15 17 19 21 23 25 27 29]\n"
     ]
    }
   ],
   "source": [
    "import numpy as np\n",
    "a=np.arange(5,31,2)\n",
    "print(\"\\nArray with sequence:\\n\",a)"
   ]
  },
  {
   "cell_type": "code",
   "execution_count": 7,
   "id": "26fdf50e",
   "metadata": {},
   "outputs": [
    {
     "name": "stdout",
     "output_type": "stream",
     "text": [
      "\n",
      "Shape of array:\n",
      "a.shape\n",
      "\n",
      "Dimension of array:\n",
      " 2\n",
      "\n",
      "Datatype of array:\n",
      " int64\n",
      "\n",
      "Flatten array:\n",
      " [1 2 3 4 5 6 7 8 9]\n"
     ]
    }
   ],
   "source": [
    "import numpy as np\n",
    "a=np.array([[1,2,3],[4,5,6],[7,8,9]])\n",
    "b=a.flatten()\n",
    "print(\"\\nShape of array:\\na.shape\")\n",
    "print(\"\\nDimension of array:\\n\",a.ndim)\n",
    "print(\"\\nDatatype of array:\\n\",a.dtype)\n",
    "print(\"\\nFlatten array:\\n\",b)"
   ]
  },
  {
   "cell_type": "code",
   "execution_count": null,
   "id": "68fae293",
   "metadata": {},
   "outputs": [],
   "source": []
  }
 ],
 "metadata": {
  "kernelspec": {
   "display_name": "Python 3 (ipykernel)",
   "language": "python",
   "name": "python3"
  },
  "language_info": {
   "codemirror_mode": {
    "name": "ipython",
    "version": 3
   },
   "file_extension": ".py",
   "mimetype": "text/x-python",
   "name": "python",
   "nbconvert_exporter": "python",
   "pygments_lexer": "ipython3",
   "version": "3.11.5"
  }
 },
 "nbformat": 4,
 "nbformat_minor": 5
}

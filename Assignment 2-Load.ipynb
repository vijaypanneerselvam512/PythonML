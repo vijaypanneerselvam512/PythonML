{
 "cells": [
  {
   "cell_type": "code",
   "execution_count": 1,
   "id": "42e56596",
   "metadata": {},
   "outputs": [
    {
     "name": "stdout",
     "output_type": "stream",
     "text": [
      "    Emp ID Name Prefix First Name Middle Initial Last Name Gender  \\\n",
      "0   677509        Drs.       Lois              H    Walker      F   \n",
      "1   940761         Ms.     Brenda              S  Robinson      F   \n",
      "2   428945         Dr.        Joe              W  Robinson      M   \n",
      "3   408351        Drs.      Diane              I     Evans      F   \n",
      "4   193819         Mr.   Benjamin              R   Russell      M   \n",
      "..     ...         ...        ...            ...       ...    ...   \n",
      "95  639892         Mr.       Jose              K      Hill      M   \n",
      "96  704709         Dr.     Harold              Z    Nelson      M   \n",
      "97  461593         Ms.     Nicole              O      Ward      F   \n",
      "98  392491        Mrs.    Theresa              R    Murphy      F   \n",
      "99  495141        Drs.      Tammy              B     Young      F   \n",
      "\n",
      "                          E Mail     Father's Name       Mother's Name  \\\n",
      "0        lois.walker@hotmail.com     Donald Walker        Helen Walker   \n",
      "1      brenda.robinson@gmail.com  Raymond Robinson       Judy Robinson   \n",
      "2         joe.robinson@gmail.com    Scott Robinson  Stephanie Robinson   \n",
      "3          diane.evans@yahoo.com       Jason Evans      Michelle Evans   \n",
      "4   benjamin.russell@charter.net   Gregory Russell   Elizabeth Russell   \n",
      "..                           ...               ...                 ...   \n",
      "95         jose.hill@hotmail.com       Carlos Hill           Anna Hill   \n",
      "96       harold.nelson@gmail.com    Richard Nelson       Pamela Nelson   \n",
      "97         nicole.ward@yahoo.com        Ralph Ward          Julia Ward   \n",
      "98      theresa.murphy@gmail.com     George Murphy   Jacqueline Murphy   \n",
      "99       tammy.young@comcast.net      Andrew Young        Brenda Young   \n",
      "\n",
      "   Mother's Maiden Name  Salary  \n",
      "0                 Lewis  168251  \n",
      "1                 Perry   51063  \n",
      "2                Taylor   50155  \n",
      "3                 Allen  180294  \n",
      "4                Nelson  117642  \n",
      "..                  ...     ...  \n",
      "95                Hayes  129774  \n",
      "96                Smith  156194  \n",
      "97                  Lee   95673  \n",
      "98             Peterson   51015  \n",
      "99             Robinson   93650  \n",
      "\n",
      "[100 rows x 11 columns]\n"
     ]
    }
   ],
   "source": [
    "import pandas as pd\n",
    "d=pd.read_csv(\"employees details.csv\")\n",
    "print(d)"
   ]
  },
  {
   "cell_type": "code",
   "execution_count": 3,
   "id": "ec5ffc59",
   "metadata": {},
   "outputs": [
    {
     "name": "stdout",
     "output_type": "stream",
     "text": [
      "Columns:\n",
      " Index(['Emp ID', 'Name Prefix', 'First Name', 'Middle Initial', 'Last Name',\n",
      "       'Gender', 'E Mail', 'Father's Name', 'Mother's Name',\n",
      "       'Mother's Maiden Name', 'Salary'],\n",
      "      dtype='object')\n",
      "\n",
      "Shape:\n",
      " (100, 11)\n"
     ]
    }
   ],
   "source": [
    "import pandas as pd\n",
    "d=pd.read_csv(\"employees details.csv\")\n",
    "print(\"Columns:\\n\",d.columns)\n",
    "print(\"\\nShape:\\n\",d.shape)"
   ]
  },
  {
   "cell_type": "code",
   "execution_count": 4,
   "id": "a4060130",
   "metadata": {},
   "outputs": [
    {
     "name": "stdout",
     "output_type": "stream",
     "text": [
      "Name:\n",
      " 0         Lois\n",
      "1       Brenda\n",
      "2          Joe\n",
      "3        Diane\n",
      "4     Benjamin\n",
      "        ...   \n",
      "95        Jose\n",
      "96      Harold\n",
      "97      Nicole\n",
      "98     Theresa\n",
      "99       Tammy\n",
      "Name: First Name, Length: 100, dtype: object\n"
     ]
    }
   ],
   "source": [
    "import pandas as pd\n",
    "d=pd.read_csv(\"employees details.csv\")\n",
    "print(\"Name:\\n\",d['First Name'])"
   ]
  },
  {
   "cell_type": "code",
   "execution_count": 5,
   "id": "3defd734",
   "metadata": {},
   "outputs": [
    {
     "name": "stdout",
     "output_type": "stream",
     "text": [
      "   Emp ID Name Prefix First Name Middle Initial Last Name Gender  \\\n",
      "0  677509        Drs.       Lois              H    Walker      F   \n",
      "1  940761         Ms.     Brenda              S  Robinson      F   \n",
      "2  428945         Dr.        Joe              W  Robinson      M   \n",
      "3  408351        Drs.      Diane              I     Evans      F   \n",
      "4  193819         Mr.   Benjamin              R   Russell      M   \n",
      "\n",
      "                         E Mail     Father's Name       Mother's Name  \\\n",
      "0       lois.walker@hotmail.com     Donald Walker        Helen Walker   \n",
      "1     brenda.robinson@gmail.com  Raymond Robinson       Judy Robinson   \n",
      "2        joe.robinson@gmail.com    Scott Robinson  Stephanie Robinson   \n",
      "3         diane.evans@yahoo.com       Jason Evans      Michelle Evans   \n",
      "4  benjamin.russell@charter.net   Gregory Russell   Elizabeth Russell   \n",
      "\n",
      "  Mother's Maiden Name  Salary  \n",
      "0                Lewis  168251  \n",
      "1                Perry   51063  \n",
      "2               Taylor   50155  \n",
      "3                Allen  180294  \n",
      "4               Nelson  117642  \n"
     ]
    }
   ],
   "source": [
    "import pandas as pd\n",
    "d=pd.read_csv(\"employees details.csv\")\n",
    "df=pd.DataFrame(d)\n",
    "print(df[0:5])"
   ]
  },
  {
   "cell_type": "code",
   "execution_count": 6,
   "id": "d5461a73",
   "metadata": {},
   "outputs": [
    {
     "name": "stdout",
     "output_type": "stream",
     "text": [
      "   Emp ID Name Prefix First Name Middle Initial Last Name Gender  \\\n",
      "1  940761         Ms.     Brenda              S  Robinson      F   \n",
      "\n",
      "                      E Mail     Father's Name  Mother's Name  \\\n",
      "1  brenda.robinson@gmail.com  Raymond Robinson  Judy Robinson   \n",
      "\n",
      "  Mother's Maiden Name  Salary  \n",
      "1                Perry   51063  \n"
     ]
    }
   ],
   "source": [
    "import pandas as pd\n",
    "d=pd.read_csv(\"employees details.csv\")\n",
    "df=pd.DataFrame(d)\n",
    "print(df.loc[d['Salary']==51063])"
   ]
  },
  {
   "cell_type": "code",
   "execution_count": 7,
   "id": "04c07fc0",
   "metadata": {},
   "outputs": [
    {
     "name": "stdout",
     "output_type": "stream",
     "text": [
      "Particular Person:\n",
      " Emp ID                                        193819\n",
      "Name Prefix                                      Mr.\n",
      "First Name                                  Benjamin\n",
      "Middle Initial                                     R\n",
      "Last Name                                    Russell\n",
      "Gender                                             M\n",
      "E Mail                  benjamin.russell@charter.net\n",
      "Father's Name                        Gregory Russell\n",
      "Mother's Name                      Elizabeth Russell\n",
      "Mother's Maiden Name                          Nelson\n",
      "Salary                                        117642\n",
      "Name: 4, dtype: object\n"
     ]
    }
   ],
   "source": [
    "import pandas as pd\n",
    "d=pd.read_csv(\"employees details.csv\")\n",
    "print(\"Particular Person:\\n\",d.loc[4])"
   ]
  },
  {
   "cell_type": "code",
   "execution_count": 8,
   "id": "66b14877",
   "metadata": {},
   "outputs": [
    {
     "name": "stdout",
     "output_type": "stream",
     "text": [
      "   Emp ID Name Prefix First Name Middle Initial Last Name Gender  \\\n",
      "0  677509        Drs.       Lois              H    Walker      F   \n",
      "1  940761         Ms.     Brenda              S  Robinson      F   \n",
      "2  428945         Dr.        Joe              W  Robinson      M   \n",
      "3  408351        Drs.      Diane              I     Evans      F   \n",
      "4  193819         Mr.   Benjamin              R   Russell      M   \n",
      "\n",
      "                         E Mail     Father's Name       Mother's Name  \\\n",
      "0       lois.walker@hotmail.com     Donald Walker        Helen Walker   \n",
      "1     brenda.robinson@gmail.com  Raymond Robinson       Judy Robinson   \n",
      "2        joe.robinson@gmail.com    Scott Robinson  Stephanie Robinson   \n",
      "3         diane.evans@yahoo.com       Jason Evans      Michelle Evans   \n",
      "4  benjamin.russell@charter.net   Gregory Russell   Elizabeth Russell   \n",
      "\n",
      "  Mother's Maiden Name  Salary  \n",
      "0                Lewis  168251  \n",
      "1                Perry   51063  \n",
      "2               Taylor   50155  \n",
      "3                Allen  180294  \n",
      "4               Nelson  117642  \n"
     ]
    }
   ],
   "source": [
    "import pandas as pd\n",
    "d=pd.read_csv(\"employees details.csv\")\n",
    "print(d.head())"
   ]
  },
  {
   "cell_type": "code",
   "execution_count": 9,
   "id": "da47b9b6",
   "metadata": {},
   "outputs": [
    {
     "name": "stdout",
     "output_type": "stream",
     "text": [
      "0     56083.666667\n",
      "1     17021.000000\n",
      "2     16718.333333\n",
      "3     60098.000000\n",
      "4     39214.000000\n",
      "          ...     \n",
      "95    43258.000000\n",
      "96    52064.666667\n",
      "97    31891.000000\n",
      "98    17005.000000\n",
      "99    31216.666667\n",
      "Name: Salary, Length: 100, dtype: float64\n"
     ]
    }
   ],
   "source": [
    "import pandas as pd\n",
    "d=pd.read_csv(\"employees details.csv\")\n",
    "df=pd.DataFrame(d)\n",
    "print(df['Salary']/3)"
   ]
  },
  {
   "cell_type": "code",
   "execution_count": 10,
   "id": "2975d7f3",
   "metadata": {},
   "outputs": [
    {
     "name": "stdout",
     "output_type": "stream",
     "text": [
      "Email ID:\n",
      " 0          lois.walker@hotmail.com\n",
      "1        brenda.robinson@gmail.com\n",
      "2           joe.robinson@gmail.com\n",
      "3            diane.evans@yahoo.com\n",
      "4     benjamin.russell@charter.net\n",
      "                  ...             \n",
      "95           jose.hill@hotmail.com\n",
      "96         harold.nelson@gmail.com\n",
      "97           nicole.ward@yahoo.com\n",
      "98        theresa.murphy@gmail.com\n",
      "99         tammy.young@comcast.net\n",
      "Name: E Mail, Length: 100, dtype: object\n"
     ]
    }
   ],
   "source": [
    "import pandas as pd\n",
    "d=pd.read_csv(\"employees details.csv\")\n",
    "df=pd.DataFrame(d)\n",
    "print(\"Email ID:\\n\",df['E Mail'])"
   ]
  },
  {
   "cell_type": "code",
   "execution_count": 11,
   "id": "e70468d0",
   "metadata": {},
   "outputs": [
    {
     "name": "stdout",
     "output_type": "stream",
     "text": [
      "    Emp ID Name Prefix First Name Middle Initial Last Name Gender  \\\n",
      "33  456747         Mr.        Roy              Z   Griffin      M   \n",
      "\n",
      "                   E Mail     Father's Name  Mother's Name  \\\n",
      "33  roy.griffin@yahoo.com  Benjamin Griffin  Wanda Griffin   \n",
      "\n",
      "   Mother's Maiden Name  Salary  \n",
      "33              Simmons  170895  \n"
     ]
    }
   ],
   "source": [
    "import pandas as pd\n",
    "d=pd.read_csv(\"employees details.csv\")\n",
    "df=pd.DataFrame(d)\n",
    "print(d.loc[df['First Name']=='Roy'])"
   ]
  },
  {
   "cell_type": "code",
   "execution_count": null,
   "id": "2111ba2d",
   "metadata": {},
   "outputs": [],
   "source": []
  }
 ],
 "metadata": {
  "kernelspec": {
   "display_name": "Python 3 (ipykernel)",
   "language": "python",
   "name": "python3"
  },
  "language_info": {
   "codemirror_mode": {
    "name": "ipython",
    "version": 3
   },
   "file_extension": ".py",
   "mimetype": "text/x-python",
   "name": "python",
   "nbconvert_exporter": "python",
   "pygments_lexer": "ipython3",
   "version": "3.11.5"
  }
 },
 "nbformat": 4,
 "nbformat_minor": 5
}

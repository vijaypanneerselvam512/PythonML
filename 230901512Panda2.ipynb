{
 "cells": [
  {
   "cell_type": "code",
   "execution_count": 2,
   "id": "d48ac170-1a74-4c38-b3d1-7327ac69cee7",
   "metadata": {},
   "outputs": [
    {
     "name": "stdout",
     "output_type": "stream",
     "text": [
      "\n",
      " Original DataFrame:\n",
      "    S  R\n",
      "0  3  9\n",
      "1  3  9\n",
      "2  3  9\n",
      "3  3  9\n",
      "\n",
      " Square root:\n",
      "           S    R\n",
      "0  1.732051  3.0\n",
      "1  1.732051  3.0\n",
      "2  1.732051  3.0\n",
      "3  1.732051  3.0\n",
      "\n",
      " Set of each column:\n",
      " S    12\n",
      "R    36\n",
      "dtype: int64\n",
      "\n",
      " set of each row:\n",
      " 0    12\n",
      "1    12\n",
      "2    12\n",
      "3    12\n",
      "dtype: int64\n"
     ]
    }
   ],
   "source": [
    "import pandas as pd\n",
    "import numpy as np\n",
    "info=pd.DataFrame([[3,9]]*4,columns=['S','R'])\n",
    "print(\"\\n Original DataFrame:\\n\",info)\n",
    "print(\"\\n Square root:\\n\",info.apply(np.sqrt))\n",
    "print(\"\\n Set of each column:\\n\",info.apply(np.sum,axis=0))\n",
    "print(\"\\n set of each row:\\n\",info.apply(np.sum,axis=1)) "
   ]
  },
  {
   "cell_type": "code",
   "execution_count": 4,
   "id": "613d3a22-24a5-41c6-a917-4b564ac77b42",
   "metadata": {},
   "outputs": [
    {
     "name": "stdout",
     "output_type": "stream",
     "text": [
      "   x  y  z\n",
      "0  2  4  6\n",
      "1  1  3  5\n",
      "2  5  8  7\n",
      "     x  y  z\n",
      "min  1  3  5\n",
      "max  5  8  7\n"
     ]
    }
   ],
   "source": [
    "import pandas as pd\n",
    "import numpy as np\n",
    "info=pd.DataFrame([[2,4,6],[1,3,5],[5,8,7]],columns=['x','y','z'])\n",
    "print(info)\n",
    "print(info.agg(['min','max']))"
   ]
  },
  {
   "cell_type": "code",
   "execution_count": null,
   "id": "b0e9144b-7fb1-4778-9812-72811f58a898",
   "metadata": {},
   "outputs": [],
   "source": [
    "import pandas as pd\n",
    "import numpy as np\n",
    "d2=pd.DataFrame([['sai',20],['vai',19]],columns=['Empname','ID'])\n",
    "print(d2)\n",
    "d2['Age']=[20,18]\n",
    "print('\\n adding new column:\\n\","
   ]
  }
 ],
 "metadata": {
  "kernelspec": {
   "display_name": "Python 3 (ipykernel)",
   "language": "python",
   "name": "python3"
  },
  "language_info": {
   "codemirror_mode": {
    "name": "ipython",
    "version": 3
   },
   "file_extension": ".py",
   "mimetype": "text/x-python",
   "name": "python",
   "nbconvert_exporter": "python",
   "pygments_lexer": "ipython3",
   "version": "3.11.11"
  }
 },
 "nbformat": 4,
 "nbformat_minor": 5
}

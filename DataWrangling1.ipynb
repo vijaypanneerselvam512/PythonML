{
 "cells": [
  {
   "cell_type": "code",
   "execution_count": 1,
   "id": "4657d010-1ef4-45be-a51f-3dc55673f2bb",
   "metadata": {},
   "outputs": [],
   "source": [
    "import pandas as pd\n",
    "d1={\"Name\":['sai','sub','poo'],\"Age\":[19,23,21]}\n",
    "d2={\"Qualified\":[True,False,True]}"
   ]
  },
  {
   "cell_type": "code",
   "execution_count": 3,
   "id": "6c869bc4-a823-43dc-808d-2315185a2e2e",
   "metadata": {},
   "outputs": [
    {
     "name": "stdout",
     "output_type": "stream",
     "text": [
      "  Name  Age\n",
      "0  sai   19\n",
      "1  sub   23\n",
      "2  poo   21\n",
      "   Qualified\n",
      "0       True\n",
      "1      False\n",
      "2       True\n",
      "  Name  Age  Qualified\n",
      "0  sai   19       True\n",
      "1  sub   23      False\n",
      "2  poo   21       True\n"
     ]
    }
   ],
   "source": [
    "df1=pd.DataFrame(d1)\n",
    "print(df1)\n",
    "df2=pd.DataFrame(d2)\n",
    "print(df2)\n",
    "#Join function\n",
    "newdf=df1.join(df2)\n",
    "print(newdf)"
   ]
  },
  {
   "cell_type": "code",
   "execution_count": 5,
   "id": "85904bfc-f717-4840-8c75-5d4d47e4aeef",
   "metadata": {},
   "outputs": [
    {
     "name": "stdout",
     "output_type": "stream",
     "text": [
      "  Name  Age\n",
      "0  sai   19\n",
      "1  sub   23\n",
      "2  poo   21\n",
      "   Name  Age\n",
      "0  Anbu   19\n",
      "1  doss   23\n",
      "2  guru   21\n",
      "  Name_x  Age Name_y\n",
      "0   Anbu   19    sai\n",
      "1   doss   23    sub\n",
      "2   guru   21    poo\n",
      "  Name_x  Age Name_y\n",
      "0    sai   19   Anbu\n",
      "1    sub   23   doss\n",
      "2    poo   21   guru\n"
     ]
    }
   ],
   "source": [
    "#MERGE function\n",
    "d1={\"Name\":['sai','sub','poo'],\"Age\":[19,23,21]}\n",
    "d2={\"Name\":['Anbu','doss','guru'],\"Age\":[19,23,21]}\n",
    "df1=pd.DataFrame(d1)\n",
    "print(df1)\n",
    "df2=pd.DataFrame(d2)\n",
    "print(df2)\n",
    "newdf1=(df2.merge(df1,on=\"Age\",how=\"right\"))\n",
    "newdf2=(df1.merge(df2,on=\"Age\",how=\"left\"))\n",
    "print(newdf1)\n",
    "print(newdf2)"
   ]
  },
  {
   "cell_type": "code",
   "execution_count": 9,
   "id": "b90692f2-e601-4120-b377-bce4bfd65ee2",
   "metadata": {},
   "outputs": [
    {
     "name": "stdout",
     "output_type": "stream",
     "text": [
      "    0   1\n",
      "0  11  12\n",
      "1   3   4\n",
      "   0  1\n",
      "0  5  6\n",
      "1  7  8\n",
      "    0   1\n",
      "0  11  12\n",
      "1   3   4\n"
     ]
    }
   ],
   "source": [
    "#combine_function\n",
    "df1=pd.DataFrame([[11,12],[3,4]])\n",
    "df2=pd.DataFrame([[5,6],[7,8]])\n",
    "def myfunc(a,b):\n",
    "    if(a.sum()>b.sum()):\n",
    "        return a\n",
    "    else:\n",
    "        return b\n",
    "print(df1)\n",
    "print(df2)\n",
    "print(df1.combine(df2,myfunc))"
   ]
  },
  {
   "cell_type": "code",
   "execution_count": 11,
   "id": "979de548-8fcb-47cb-9b59-bce414cd5ab1",
   "metadata": {},
   "outputs": [
    {
     "name": "stdout",
     "output_type": "stream",
     "text": [
      "  team  points  assists  rebounds\n",
      "0    A      90       12        56\n",
      "1    B      56       34        43\n",
      "2    C      78       23        55\n",
      "3    D      88       44        12\n",
      "\n",
      "Reshaped DataFrame:\n",
      "    team  variable  value\n",
      "0     A    points     90\n",
      "1     B    points     56\n",
      "2     C    points     78\n",
      "3     D    points     88\n",
      "4     A   assists     12\n",
      "5     B   assists     34\n",
      "6     C   assists     23\n",
      "7     D   assists     44\n",
      "8     A  rebounds     56\n",
      "9     B  rebounds     43\n",
      "10    C  rebounds     55\n",
      "11    D  rebounds     12\n"
     ]
    }
   ],
   "source": [
    "# Create DataFrame\n",
    "df=pd.DataFrame({'team':['A','B','C','D'],\n",
    "                 'points':[90,56,78,88],\n",
    "                 'assists':[12,34,23,44],\n",
    "                 'rebounds':[56,43,55,12]})\n",
    "# View DataFrame\n",
    "print(df)\n",
    "#reshape DataFrame from wide format to long format\n",
    "df=pd.melt(df,id_vars='team',value_vars=['points','assists','rebounds'])\n",
    "#View updated DataFrame\n",
    "print(\"\\nReshaped DataFrame:\\n\",df)"
   ]
  },
  {
   "cell_type": "code",
   "execution_count": null,
   "id": "c6bd8bc3-ef46-44ab-8bb4-cf6af2e25124",
   "metadata": {},
   "outputs": [],
   "source": []
  }
 ],
 "metadata": {
  "kernelspec": {
   "display_name": "Python 3 (ipykernel)",
   "language": "python",
   "name": "python3"
  },
  "language_info": {
   "codemirror_mode": {
    "name": "ipython",
    "version": 3
   },
   "file_extension": ".py",
   "mimetype": "text/x-python",
   "name": "python",
   "nbconvert_exporter": "python",
   "pygments_lexer": "ipython3",
   "version": "3.11.11"
  }
 },
 "nbformat": 4,
 "nbformat_minor": 5
}
